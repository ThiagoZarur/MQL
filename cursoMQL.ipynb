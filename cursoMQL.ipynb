{
 "cells": [
  {
   "cell_type": "markdown",
   "id": "6c8739be",
   "metadata": {},
   "source": [
    "Instalación de librerías "
   ]
  },
  {
   "cell_type": "code",
   "execution_count": 8,
   "id": "3f197f4d",
   "metadata": {},
   "outputs": [
    {
     "name": "stdout",
     "output_type": "stream",
     "text": [
      "Requirement already satisfied: ta in c:\\users\\mi pc\\appdata\\local\\programs\\python\\python310\\lib\\site-packages (0.10.1)\n",
      "Requirement already satisfied: numpy in c:\\users\\mi pc\\appdata\\local\\programs\\python\\python310\\lib\\site-packages (from ta) (1.22.4)\n",
      "Requirement already satisfied: pandas in c:\\users\\mi pc\\appdata\\local\\programs\\python\\python310\\lib\\site-packages (from ta) (1.4.2)\n",
      "Requirement already satisfied: python-dateutil>=2.8.1 in c:\\users\\mi pc\\appdata\\local\\programs\\python\\python310\\lib\\site-packages (from pandas->ta) (2.8.2)\n",
      "Requirement already satisfied: pytz>=2020.1 in c:\\users\\mi pc\\appdata\\local\\programs\\python\\python310\\lib\\site-packages (from pandas->ta) (2022.1)\n",
      "Requirement already satisfied: six>=1.5 in c:\\users\\mi pc\\appdata\\local\\programs\\python\\python310\\lib\\site-packages (from python-dateutil>=2.8.1->pandas->ta) (1.16.0)\n",
      "Note: you may need to restart the kernel to use updated packages.\n",
      "Requirement already satisfied: datetime in c:\\users\\mi pc\\appdata\\local\\programs\\python\\python310\\lib\\site-packages (4.5)\n",
      "Requirement already satisfied: pytz in c:\\users\\mi pc\\appdata\\local\\programs\\python\\python310\\lib\\site-packages (from datetime) (2022.1)\n",
      "Requirement already satisfied: zope.interface in c:\\users\\mi pc\\appdata\\local\\programs\\python\\python310\\lib\\site-packages (from datetime) (5.4.0)\n",
      "Requirement already satisfied: setuptools in c:\\users\\mi pc\\appdata\\local\\programs\\python\\python310\\lib\\site-packages (from zope.interface->datetime) (62.3.2)\n",
      "Note: you may need to restart the kernel to use updated packages.\n",
      "Requirement already satisfied: MetaTrader5 in c:\\users\\mi pc\\appdata\\local\\programs\\python\\python310\\lib\\site-packages (5.0.37)\n",
      "Requirement already satisfied: numpy>=1.7 in c:\\users\\mi pc\\appdata\\local\\programs\\python\\python310\\lib\\site-packages (from MetaTrader5) (1.22.4)\n",
      "Note: you may need to restart the kernel to use updated packages.\n"
     ]
    }
   ],
   "source": [
    "#Instalación de librerías \n",
    "%pip install ta\n",
    "%pip install datetime\n",
    "%pip install MetaTrader5\n"
   ]
  },
  {
   "cell_type": "markdown",
   "id": "dc35bc53",
   "metadata": {},
   "source": [
    "Inicializar conexión con MetaTrader 5 y primeras extracciones de información"
   ]
  },
  {
   "cell_type": "code",
   "execution_count": 9,
   "id": "b5f16fb7",
   "metadata": {},
   "outputs": [],
   "source": [
    "import MetaTrader5 as mt5"
   ]
  },
  {
   "cell_type": "code",
   "execution_count": 10,
   "id": "d6735567",
   "metadata": {},
   "outputs": [
    {
     "data": {
      "text/plain": [
       "True"
      ]
     },
     "execution_count": 10,
     "metadata": {},
     "output_type": "execute_result"
    }
   ],
   "source": [
    "#crear un vínculo \n",
    "mt5.initialize() #esto abrira el metatrader "
   ]
  },
  {
   "cell_type": "code",
   "execution_count": 11,
   "id": "188459ed",
   "metadata": {},
   "outputs": [
    {
     "data": {
      "text/plain": [
       "(1, 'Success')"
      ]
     },
     "execution_count": 11,
     "metadata": {},
     "output_type": "execute_result"
    }
   ],
   "source": [
    "#Cachar los errores pendientes (error anterior)\n",
    "mt5.last_error()"
   ]
  },
  {
   "cell_type": "code",
   "execution_count": 12,
   "id": "e3c298be",
   "metadata": {},
   "outputs": [
    {
     "data": {
      "text/plain": [
       "True"
      ]
     },
     "execution_count": 12,
     "metadata": {},
     "output_type": "execute_result"
    }
   ],
   "source": [
    "#Cerrar el vínculo entre MT5 y Python\n",
    "mt5.shutdown()"
   ]
  },
  {
   "cell_type": "code",
   "execution_count": 13,
   "id": "81051fa8",
   "metadata": {},
   "outputs": [
    {
     "data": {
      "text/plain": [
       "5360.61"
      ]
     },
     "execution_count": 13,
     "metadata": {},
     "output_type": "execute_result"
    }
   ],
   "source": [
    "#Cuando el vínculo está cerrado, no dará ningún resultado de lo contrario, te dará información de tu cuenta\n",
    "mt5.initialize()\n",
    "information = mt5.account_info()\n",
    "#extraer el balance otras opciones --> login, leverage, server \n",
    "information.balance"
   ]
  },
  {
   "cell_type": "code",
   "execution_count": 14,
   "id": "71633961",
   "metadata": {},
   "outputs": [
    {
     "data": {
      "text/plain": [
       "1.01464"
      ]
     },
     "execution_count": 14,
     "metadata": {},
     "output_type": "execute_result"
    }
   ],
   "source": [
    "#Extrayendo la información de un simbolo, bid otras opciones --> ask, spread, description, path\n",
    "symbol = mt5.symbol_info('EURUSD')\n",
    "symbol.bid"
   ]
  },
  {
   "cell_type": "code",
   "execution_count": 15,
   "id": "933b64b5",
   "metadata": {},
   "outputs": [
    {
     "data": {
      "text/plain": [
       "True"
      ]
     },
     "execution_count": 15,
     "metadata": {},
     "output_type": "execute_result"
    }
   ],
   "source": [
    "#Conectando libro ordenes\n",
    "mt5.market_book_add('EURUSD')"
   ]
  },
  {
   "cell_type": "code",
   "execution_count": 16,
   "id": "3e7ff407",
   "metadata": {},
   "outputs": [
    {
     "data": {
      "text/plain": [
       "True"
      ]
     },
     "execution_count": 16,
     "metadata": {},
     "output_type": "execute_result"
    }
   ],
   "source": [
    "#Extrayendo datos del order book\n",
    "mt5.market_book_get('EURUSD')\n",
    "#Shutdown\n",
    "mt5.market_book_release('EURUSD')"
   ]
  },
  {
   "cell_type": "code",
   "execution_count": 17,
   "id": "807fccb2",
   "metadata": {},
   "outputs": [
    {
     "data": {
      "text/plain": [
       "True"
      ]
     },
     "execution_count": 17,
     "metadata": {},
     "output_type": "execute_result"
    }
   ],
   "source": [
    "#Agregando un par a tu lista de seguimiento \n",
    "mt5.symbol_select('USDJPY')"
   ]
  },
  {
   "cell_type": "markdown",
   "id": "9f13786e",
   "metadata": {},
   "source": [
    "Importar ticks de un activo en diferentes rangos de fecha"
   ]
  },
  {
   "cell_type": "code",
   "execution_count": 2,
   "id": "481d7e37",
   "metadata": {},
   "outputs": [],
   "source": [
    "##import ticks data de una la fecha actual\n",
    "from datetime import datetime\n",
    "import MetaTrader5 as mt5\n",
    "import pandas as pd\n"
   ]
  },
  {
   "cell_type": "code",
   "execution_count": 19,
   "id": "7bbb0f3d",
   "metadata": {},
   "outputs": [
    {
     "data": {
      "text/html": [
       "<div>\n",
       "<style scoped>\n",
       "    .dataframe tbody tr th:only-of-type {\n",
       "        vertical-align: middle;\n",
       "    }\n",
       "\n",
       "    .dataframe tbody tr th {\n",
       "        vertical-align: top;\n",
       "    }\n",
       "\n",
       "    .dataframe thead th {\n",
       "        text-align: right;\n",
       "    }\n",
       "</style>\n",
       "<table border=\"1\" class=\"dataframe\">\n",
       "  <thead>\n",
       "    <tr style=\"text-align: right;\">\n",
       "      <th></th>\n",
       "      <th>time</th>\n",
       "      <th>bid</th>\n",
       "      <th>ask</th>\n",
       "      <th>last</th>\n",
       "      <th>volume</th>\n",
       "      <th>time_msc</th>\n",
       "      <th>flags</th>\n",
       "      <th>volume_real</th>\n",
       "    </tr>\n",
       "  </thead>\n",
       "  <tbody>\n",
       "    <tr>\n",
       "      <th>0</th>\n",
       "      <td>2022-07-11 02:46:54</td>\n",
       "      <td>1.01702</td>\n",
       "      <td>1.01705</td>\n",
       "      <td>0.0</td>\n",
       "      <td>0</td>\n",
       "      <td>1657507614212</td>\n",
       "      <td>4</td>\n",
       "      <td>0.0</td>\n",
       "    </tr>\n",
       "    <tr>\n",
       "      <th>1</th>\n",
       "      <td>2022-07-11 02:46:54</td>\n",
       "      <td>1.01701</td>\n",
       "      <td>1.01705</td>\n",
       "      <td>0.0</td>\n",
       "      <td>0</td>\n",
       "      <td>1657507614619</td>\n",
       "      <td>130</td>\n",
       "      <td>0.0</td>\n",
       "    </tr>\n",
       "    <tr>\n",
       "      <th>2</th>\n",
       "      <td>2022-07-11 02:46:56</td>\n",
       "      <td>1.01702</td>\n",
       "      <td>1.01705</td>\n",
       "      <td>0.0</td>\n",
       "      <td>0</td>\n",
       "      <td>1657507616418</td>\n",
       "      <td>130</td>\n",
       "      <td>0.0</td>\n",
       "    </tr>\n",
       "    <tr>\n",
       "      <th>3</th>\n",
       "      <td>2022-07-11 02:46:56</td>\n",
       "      <td>1.01702</td>\n",
       "      <td>1.01706</td>\n",
       "      <td>0.0</td>\n",
       "      <td>0</td>\n",
       "      <td>1657507616673</td>\n",
       "      <td>4</td>\n",
       "      <td>0.0</td>\n",
       "    </tr>\n",
       "    <tr>\n",
       "      <th>4</th>\n",
       "      <td>2022-07-11 02:46:57</td>\n",
       "      <td>1.01707</td>\n",
       "      <td>1.01707</td>\n",
       "      <td>0.0</td>\n",
       "      <td>0</td>\n",
       "      <td>1657507617715</td>\n",
       "      <td>134</td>\n",
       "      <td>0.0</td>\n",
       "    </tr>\n",
       "    <tr>\n",
       "      <th>5</th>\n",
       "      <td>2022-07-11 02:46:57</td>\n",
       "      <td>1.01706</td>\n",
       "      <td>1.01708</td>\n",
       "      <td>0.0</td>\n",
       "      <td>0</td>\n",
       "      <td>1657507617921</td>\n",
       "      <td>134</td>\n",
       "      <td>0.0</td>\n",
       "    </tr>\n",
       "    <tr>\n",
       "      <th>6</th>\n",
       "      <td>2022-07-11 02:46:58</td>\n",
       "      <td>1.01705</td>\n",
       "      <td>1.01707</td>\n",
       "      <td>0.0</td>\n",
       "      <td>0</td>\n",
       "      <td>1657507618248</td>\n",
       "      <td>134</td>\n",
       "      <td>0.0</td>\n",
       "    </tr>\n",
       "    <tr>\n",
       "      <th>7</th>\n",
       "      <td>2022-07-11 02:46:58</td>\n",
       "      <td>1.01705</td>\n",
       "      <td>1.01706</td>\n",
       "      <td>0.0</td>\n",
       "      <td>0</td>\n",
       "      <td>1657507618447</td>\n",
       "      <td>4</td>\n",
       "      <td>0.0</td>\n",
       "    </tr>\n",
       "    <tr>\n",
       "      <th>8</th>\n",
       "      <td>2022-07-11 02:47:00</td>\n",
       "      <td>1.01704</td>\n",
       "      <td>1.01707</td>\n",
       "      <td>0.0</td>\n",
       "      <td>0</td>\n",
       "      <td>1657507620230</td>\n",
       "      <td>134</td>\n",
       "      <td>0.0</td>\n",
       "    </tr>\n",
       "    <tr>\n",
       "      <th>9</th>\n",
       "      <td>2022-07-11 02:47:00</td>\n",
       "      <td>1.01706</td>\n",
       "      <td>1.01708</td>\n",
       "      <td>0.0</td>\n",
       "      <td>0</td>\n",
       "      <td>1657507620975</td>\n",
       "      <td>134</td>\n",
       "      <td>0.0</td>\n",
       "    </tr>\n",
       "  </tbody>\n",
       "</table>\n",
       "</div>"
      ],
      "text/plain": [
       "                 time      bid      ask  last  volume       time_msc  flags  \\\n",
       "0 2022-07-11 02:46:54  1.01702  1.01705   0.0       0  1657507614212      4   \n",
       "1 2022-07-11 02:46:54  1.01701  1.01705   0.0       0  1657507614619    130   \n",
       "2 2022-07-11 02:46:56  1.01702  1.01705   0.0       0  1657507616418    130   \n",
       "3 2022-07-11 02:46:56  1.01702  1.01706   0.0       0  1657507616673      4   \n",
       "4 2022-07-11 02:46:57  1.01707  1.01707   0.0       0  1657507617715    134   \n",
       "5 2022-07-11 02:46:57  1.01706  1.01708   0.0       0  1657507617921    134   \n",
       "6 2022-07-11 02:46:58  1.01705  1.01707   0.0       0  1657507618248    134   \n",
       "7 2022-07-11 02:46:58  1.01705  1.01706   0.0       0  1657507618447      4   \n",
       "8 2022-07-11 02:47:00  1.01704  1.01707   0.0       0  1657507620230    134   \n",
       "9 2022-07-11 02:47:00  1.01706  1.01708   0.0       0  1657507620975    134   \n",
       "\n",
       "   volume_real  \n",
       "0          0.0  \n",
       "1          0.0  \n",
       "2          0.0  \n",
       "3          0.0  \n",
       "4          0.0  \n",
       "5          0.0  \n",
       "6          0.0  \n",
       "7          0.0  \n",
       "8          0.0  \n",
       "9          0.0  "
      ]
     },
     "execution_count": 19,
     "metadata": {},
     "output_type": "execute_result"
    }
   ],
   "source": [
    "from_date = datetime.now()\n",
    "#Extrayendo n ticks historicos\n",
    "ticks = mt5.copy_ticks_from('EURUSD', from_date,10,mt5.COPY_TICKS_ALL)\n",
    "#De array a dataframe\n",
    "df_ticks = pd.DataFrame(ticks)\n",
    "#convirtiendo la columna time \n",
    "df_ticks['time'] = pd.to_datetime(df_ticks['time'], unit='s')\n",
    "\n",
    "df_ticks"
   ]
  },
  {
   "cell_type": "code",
   "execution_count": 20,
   "id": "e01cced7",
   "metadata": {},
   "outputs": [
    {
     "data": {
      "text/html": [
       "<div>\n",
       "<style scoped>\n",
       "    .dataframe tbody tr th:only-of-type {\n",
       "        vertical-align: middle;\n",
       "    }\n",
       "\n",
       "    .dataframe tbody tr th {\n",
       "        vertical-align: top;\n",
       "    }\n",
       "\n",
       "    .dataframe thead th {\n",
       "        text-align: right;\n",
       "    }\n",
       "</style>\n",
       "<table border=\"1\" class=\"dataframe\">\n",
       "  <thead>\n",
       "    <tr style=\"text-align: right;\">\n",
       "      <th></th>\n",
       "      <th>time</th>\n",
       "      <th>bid</th>\n",
       "      <th>ask</th>\n",
       "      <th>last</th>\n",
       "      <th>volume</th>\n",
       "      <th>time_msc</th>\n",
       "      <th>flags</th>\n",
       "      <th>volume_real</th>\n",
       "    </tr>\n",
       "  </thead>\n",
       "  <tbody>\n",
       "    <tr>\n",
       "      <th>0</th>\n",
       "      <td>2022-01-05 06:00:00</td>\n",
       "      <td>1.12958</td>\n",
       "      <td>1.12958</td>\n",
       "      <td>0.0</td>\n",
       "      <td>0</td>\n",
       "      <td>1641362400943</td>\n",
       "      <td>134</td>\n",
       "      <td>0.0</td>\n",
       "    </tr>\n",
       "    <tr>\n",
       "      <th>1</th>\n",
       "      <td>2022-01-05 06:00:01</td>\n",
       "      <td>1.12957</td>\n",
       "      <td>1.12957</td>\n",
       "      <td>0.0</td>\n",
       "      <td>0</td>\n",
       "      <td>1641362401497</td>\n",
       "      <td>134</td>\n",
       "      <td>0.0</td>\n",
       "    </tr>\n",
       "    <tr>\n",
       "      <th>2</th>\n",
       "      <td>2022-01-05 06:00:02</td>\n",
       "      <td>1.12958</td>\n",
       "      <td>1.12958</td>\n",
       "      <td>0.0</td>\n",
       "      <td>0</td>\n",
       "      <td>1641362402171</td>\n",
       "      <td>134</td>\n",
       "      <td>0.0</td>\n",
       "    </tr>\n",
       "    <tr>\n",
       "      <th>3</th>\n",
       "      <td>2022-01-05 06:00:06</td>\n",
       "      <td>1.12959</td>\n",
       "      <td>1.12959</td>\n",
       "      <td>0.0</td>\n",
       "      <td>0</td>\n",
       "      <td>1641362406886</td>\n",
       "      <td>134</td>\n",
       "      <td>0.0</td>\n",
       "    </tr>\n",
       "    <tr>\n",
       "      <th>4</th>\n",
       "      <td>2022-01-05 06:00:10</td>\n",
       "      <td>1.12958</td>\n",
       "      <td>1.12958</td>\n",
       "      <td>0.0</td>\n",
       "      <td>0</td>\n",
       "      <td>1641362410834</td>\n",
       "      <td>134</td>\n",
       "      <td>0.0</td>\n",
       "    </tr>\n",
       "    <tr>\n",
       "      <th>...</th>\n",
       "      <td>...</td>\n",
       "      <td>...</td>\n",
       "      <td>...</td>\n",
       "      <td>...</td>\n",
       "      <td>...</td>\n",
       "      <td>...</td>\n",
       "      <td>...</td>\n",
       "      <td>...</td>\n",
       "    </tr>\n",
       "    <tr>\n",
       "      <th>52685</th>\n",
       "      <td>2022-01-06 05:59:44</td>\n",
       "      <td>1.13152</td>\n",
       "      <td>1.13153</td>\n",
       "      <td>0.0</td>\n",
       "      <td>0</td>\n",
       "      <td>1641448784730</td>\n",
       "      <td>4</td>\n",
       "      <td>0.0</td>\n",
       "    </tr>\n",
       "    <tr>\n",
       "      <th>52686</th>\n",
       "      <td>2022-01-06 05:59:54</td>\n",
       "      <td>1.13152</td>\n",
       "      <td>1.13152</td>\n",
       "      <td>0.0</td>\n",
       "      <td>0</td>\n",
       "      <td>1641448794840</td>\n",
       "      <td>4</td>\n",
       "      <td>0.0</td>\n",
       "    </tr>\n",
       "    <tr>\n",
       "      <th>52687</th>\n",
       "      <td>2022-01-06 05:59:56</td>\n",
       "      <td>1.13152</td>\n",
       "      <td>1.13153</td>\n",
       "      <td>0.0</td>\n",
       "      <td>0</td>\n",
       "      <td>1641448796297</td>\n",
       "      <td>4</td>\n",
       "      <td>0.0</td>\n",
       "    </tr>\n",
       "    <tr>\n",
       "      <th>52688</th>\n",
       "      <td>2022-01-06 05:59:57</td>\n",
       "      <td>1.13152</td>\n",
       "      <td>1.13152</td>\n",
       "      <td>0.0</td>\n",
       "      <td>0</td>\n",
       "      <td>1641448797074</td>\n",
       "      <td>4</td>\n",
       "      <td>0.0</td>\n",
       "    </tr>\n",
       "    <tr>\n",
       "      <th>52689</th>\n",
       "      <td>2022-01-06 05:59:59</td>\n",
       "      <td>1.13152</td>\n",
       "      <td>1.13153</td>\n",
       "      <td>0.0</td>\n",
       "      <td>0</td>\n",
       "      <td>1641448799976</td>\n",
       "      <td>4</td>\n",
       "      <td>0.0</td>\n",
       "    </tr>\n",
       "  </tbody>\n",
       "</table>\n",
       "<p>52690 rows × 8 columns</p>\n",
       "</div>"
      ],
      "text/plain": [
       "                     time      bid      ask  last  volume       time_msc  \\\n",
       "0     2022-01-05 06:00:00  1.12958  1.12958   0.0       0  1641362400943   \n",
       "1     2022-01-05 06:00:01  1.12957  1.12957   0.0       0  1641362401497   \n",
       "2     2022-01-05 06:00:02  1.12958  1.12958   0.0       0  1641362402171   \n",
       "3     2022-01-05 06:00:06  1.12959  1.12959   0.0       0  1641362406886   \n",
       "4     2022-01-05 06:00:10  1.12958  1.12958   0.0       0  1641362410834   \n",
       "...                   ...      ...      ...   ...     ...            ...   \n",
       "52685 2022-01-06 05:59:44  1.13152  1.13153   0.0       0  1641448784730   \n",
       "52686 2022-01-06 05:59:54  1.13152  1.13152   0.0       0  1641448794840   \n",
       "52687 2022-01-06 05:59:56  1.13152  1.13153   0.0       0  1641448796297   \n",
       "52688 2022-01-06 05:59:57  1.13152  1.13152   0.0       0  1641448797074   \n",
       "52689 2022-01-06 05:59:59  1.13152  1.13153   0.0       0  1641448799976   \n",
       "\n",
       "       flags  volume_real  \n",
       "0        134          0.0  \n",
       "1        134          0.0  \n",
       "2        134          0.0  \n",
       "3        134          0.0  \n",
       "4        134          0.0  \n",
       "...      ...          ...  \n",
       "52685      4          0.0  \n",
       "52686      4          0.0  \n",
       "52687      4          0.0  \n",
       "52688      4          0.0  \n",
       "52689      4          0.0  \n",
       "\n",
       "[52690 rows x 8 columns]"
      ]
     },
     "execution_count": 20,
     "metadata": {},
     "output_type": "execute_result"
    }
   ],
   "source": [
    "#importando ticks con un rango de tiempo \n",
    "from_date = datetime(2022,1,5)\n",
    "to_date = datetime(2022,1,6)\n",
    "\n",
    "ticks = mt5.copy_ticks_range('EURUSD',from_date,to_date,mt5.COPY_TICKS_ALL)\n",
    "df_ticks = pd.DataFrame(ticks)\n",
    "df_ticks['time'] = pd.to_datetime(df_ticks['time'], unit='s')\n",
    "df_ticks\n"
   ]
  },
  {
   "cell_type": "code",
   "execution_count": 21,
   "id": "c6dca697",
   "metadata": {},
   "outputs": [
    {
     "data": {
      "text/html": [
       "<div>\n",
       "<style scoped>\n",
       "    .dataframe tbody tr th:only-of-type {\n",
       "        vertical-align: middle;\n",
       "    }\n",
       "\n",
       "    .dataframe tbody tr th {\n",
       "        vertical-align: top;\n",
       "    }\n",
       "\n",
       "    .dataframe thead th {\n",
       "        text-align: right;\n",
       "    }\n",
       "</style>\n",
       "<table border=\"1\" class=\"dataframe\">\n",
       "  <thead>\n",
       "    <tr style=\"text-align: right;\">\n",
       "      <th></th>\n",
       "      <th>time</th>\n",
       "      <th>open</th>\n",
       "      <th>high</th>\n",
       "      <th>low</th>\n",
       "      <th>close</th>\n",
       "      <th>tick_volume</th>\n",
       "      <th>spread</th>\n",
       "      <th>real_volume</th>\n",
       "    </tr>\n",
       "  </thead>\n",
       "  <tbody>\n",
       "    <tr>\n",
       "      <th>0</th>\n",
       "      <td>2022-06-28</td>\n",
       "      <td>1.05846</td>\n",
       "      <td>1.06062</td>\n",
       "      <td>1.05036</td>\n",
       "      <td>1.05207</td>\n",
       "      <td>85572</td>\n",
       "      <td>0</td>\n",
       "      <td>0</td>\n",
       "    </tr>\n",
       "    <tr>\n",
       "      <th>1</th>\n",
       "      <td>2022-06-29</td>\n",
       "      <td>1.05188</td>\n",
       "      <td>1.05355</td>\n",
       "      <td>1.04352</td>\n",
       "      <td>1.04413</td>\n",
       "      <td>89438</td>\n",
       "      <td>0</td>\n",
       "      <td>0</td>\n",
       "    </tr>\n",
       "    <tr>\n",
       "      <th>2</th>\n",
       "      <td>2022-06-30</td>\n",
       "      <td>1.04403</td>\n",
       "      <td>1.04885</td>\n",
       "      <td>1.03827</td>\n",
       "      <td>1.04835</td>\n",
       "      <td>91533</td>\n",
       "      <td>0</td>\n",
       "      <td>0</td>\n",
       "    </tr>\n",
       "    <tr>\n",
       "      <th>3</th>\n",
       "      <td>2022-07-01</td>\n",
       "      <td>1.04836</td>\n",
       "      <td>1.04850</td>\n",
       "      <td>1.03655</td>\n",
       "      <td>1.04246</td>\n",
       "      <td>92498</td>\n",
       "      <td>0</td>\n",
       "      <td>0</td>\n",
       "    </tr>\n",
       "    <tr>\n",
       "      <th>4</th>\n",
       "      <td>2022-07-04</td>\n",
       "      <td>1.04193</td>\n",
       "      <td>1.04628</td>\n",
       "      <td>1.04168</td>\n",
       "      <td>1.04227</td>\n",
       "      <td>58142</td>\n",
       "      <td>0</td>\n",
       "      <td>0</td>\n",
       "    </tr>\n",
       "    <tr>\n",
       "      <th>5</th>\n",
       "      <td>2022-07-05</td>\n",
       "      <td>1.04202</td>\n",
       "      <td>1.04490</td>\n",
       "      <td>1.02352</td>\n",
       "      <td>1.02641</td>\n",
       "      <td>90259</td>\n",
       "      <td>0</td>\n",
       "      <td>0</td>\n",
       "    </tr>\n",
       "    <tr>\n",
       "      <th>6</th>\n",
       "      <td>2022-07-06</td>\n",
       "      <td>1.02681</td>\n",
       "      <td>1.02765</td>\n",
       "      <td>1.01618</td>\n",
       "      <td>1.01813</td>\n",
       "      <td>99215</td>\n",
       "      <td>0</td>\n",
       "      <td>0</td>\n",
       "    </tr>\n",
       "    <tr>\n",
       "      <th>7</th>\n",
       "      <td>2022-07-07</td>\n",
       "      <td>1.01808</td>\n",
       "      <td>1.02210</td>\n",
       "      <td>1.01442</td>\n",
       "      <td>1.01614</td>\n",
       "      <td>82593</td>\n",
       "      <td>0</td>\n",
       "      <td>0</td>\n",
       "    </tr>\n",
       "    <tr>\n",
       "      <th>8</th>\n",
       "      <td>2022-07-08</td>\n",
       "      <td>1.01632</td>\n",
       "      <td>1.01915</td>\n",
       "      <td>1.00719</td>\n",
       "      <td>1.01854</td>\n",
       "      <td>89368</td>\n",
       "      <td>0</td>\n",
       "      <td>0</td>\n",
       "    </tr>\n",
       "    <tr>\n",
       "      <th>9</th>\n",
       "      <td>2022-07-11</td>\n",
       "      <td>1.01788</td>\n",
       "      <td>1.01850</td>\n",
       "      <td>1.01350</td>\n",
       "      <td>1.01463</td>\n",
       "      <td>14418</td>\n",
       "      <td>0</td>\n",
       "      <td>0</td>\n",
       "    </tr>\n",
       "  </tbody>\n",
       "</table>\n",
       "</div>"
      ],
      "text/plain": [
       "        time     open     high      low    close  tick_volume  spread  \\\n",
       "0 2022-06-28  1.05846  1.06062  1.05036  1.05207        85572       0   \n",
       "1 2022-06-29  1.05188  1.05355  1.04352  1.04413        89438       0   \n",
       "2 2022-06-30  1.04403  1.04885  1.03827  1.04835        91533       0   \n",
       "3 2022-07-01  1.04836  1.04850  1.03655  1.04246        92498       0   \n",
       "4 2022-07-04  1.04193  1.04628  1.04168  1.04227        58142       0   \n",
       "5 2022-07-05  1.04202  1.04490  1.02352  1.02641        90259       0   \n",
       "6 2022-07-06  1.02681  1.02765  1.01618  1.01813        99215       0   \n",
       "7 2022-07-07  1.01808  1.02210  1.01442  1.01614        82593       0   \n",
       "8 2022-07-08  1.01632  1.01915  1.00719  1.01854        89368       0   \n",
       "9 2022-07-11  1.01788  1.01850  1.01350  1.01463        14418       0   \n",
       "\n",
       "   real_volume  \n",
       "0            0  \n",
       "1            0  \n",
       "2            0  \n",
       "3            0  \n",
       "4            0  \n",
       "5            0  \n",
       "6            0  \n",
       "7            0  \n",
       "8            0  \n",
       "9            0  "
      ]
     },
     "execution_count": 21,
     "metadata": {},
     "output_type": "execute_result"
    }
   ],
   "source": [
    "#importando candles fecha actual\n",
    "from_date = datetime.now()\n",
    "\n",
    "rates = mt5.copy_rates_from('EURUSD',mt5.TIMEFRAME_D1,from_date,10)\n",
    "\n",
    "df_rates = pd.DataFrame(rates)\n",
    "df_rates['time'] = pd.to_datetime(df_rates['time'], unit='s')\n",
    "df_rates"
   ]
  },
  {
   "cell_type": "code",
   "execution_count": 22,
   "id": "8f3c4b19",
   "metadata": {},
   "outputs": [
    {
     "data": {
      "text/html": [
       "<div>\n",
       "<style scoped>\n",
       "    .dataframe tbody tr th:only-of-type {\n",
       "        vertical-align: middle;\n",
       "    }\n",
       "\n",
       "    .dataframe tbody tr th {\n",
       "        vertical-align: top;\n",
       "    }\n",
       "\n",
       "    .dataframe thead th {\n",
       "        text-align: right;\n",
       "    }\n",
       "</style>\n",
       "<table border=\"1\" class=\"dataframe\">\n",
       "  <thead>\n",
       "    <tr style=\"text-align: right;\">\n",
       "      <th></th>\n",
       "      <th>time</th>\n",
       "      <th>bid</th>\n",
       "      <th>ask</th>\n",
       "      <th>last</th>\n",
       "      <th>volume</th>\n",
       "      <th>time_msc</th>\n",
       "      <th>flags</th>\n",
       "      <th>volume_real</th>\n",
       "    </tr>\n",
       "  </thead>\n",
       "  <tbody>\n",
       "  </tbody>\n",
       "</table>\n",
       "</div>"
      ],
      "text/plain": [
       "Empty DataFrame\n",
       "Columns: [time, bid, ask, last, volume, time_msc, flags, volume_real]\n",
       "Index: []"
      ]
     },
     "execution_count": 22,
     "metadata": {},
     "output_type": "execute_result"
    }
   ],
   "source": [
    "#Automatizar nuestra extracción de ticks\n",
    "\n",
    "def get_ticks(symbol,number_of_data = 1000):\n",
    "\n",
    "    from_date = datetime.now()\n",
    "\n",
    "    ticks = mt5.copy_ticks_range(symbol,from_date,number_of_data,mt5.COPY_TICKS_ALL)\n",
    "    df_ticks = pd.DataFrame(ticks)\n",
    "    df_ticks['time'] = pd.to_datetime(df_ticks['time'], unit='s')\n",
    "    \n",
    "    return df_ticks\n",
    "\n",
    "get_ticks('EURUSD')"
   ]
  },
  {
   "cell_type": "markdown",
   "id": "4d8caf8f",
   "metadata": {},
   "source": [
    "Ordenes de compra/venta "
   ]
  },
  {
   "cell_type": "code",
   "execution_count": 23,
   "id": "b975cddb",
   "metadata": {},
   "outputs": [
    {
     "data": {
      "text/plain": [
       "OrderSendResult(retcode=10027, deal=0, order=0, volume=0.0, price=0.0, bid=0.0, ask=0.0, comment='AutoTrading disabled by client', request_id=0, retcode_external=0, request=TradeRequest(action=1, magic=0, order=0, symbol='EURUSD', volume=0.01, price=1.01465, stoplimit=0.0, sl=0.0, tp=0.0, deviation=10, type=0, type_filling=2, type_time=0, expiration=0, comment='', position=0, position_by=0))"
      ]
     },
     "execution_count": 23,
     "metadata": {},
     "output_type": "execute_result"
    }
   ],
   "source": [
    "#Programar una orden de compra\n",
    "#Siempre importar nuestras librerías e inicializar la conexión con MT5\n",
    "\n",
    "symbol = 'EURUSD'\n",
    "lot = 0.01\n",
    "deviation = 10\n",
    "filling_type =mt5.symbol_info(symbol).filling_mode\n",
    "request = {\n",
    "    'action': mt5.TRADE_ACTION_DEAL,\n",
    "    'symbol': symbol,\n",
    "    'volume': lot,\n",
    "    'type': mt5.ORDER_TYPE_BUY,\n",
    "    'price': mt5.symbol_info_tick(symbol).ask,\n",
    "    'deviation':deviation,\n",
    "    'type_filling': filling_type,\n",
    "    'type_time': mt5.ORDER_TIME_GTC\n",
    "}\n",
    "\n",
    "mt5.order_check(request) #Nos sirve para checar el estado de la orden\n",
    "mt5.order_send(request) #Aquí enviamos la orden\n"
   ]
  },
  {
   "cell_type": "code",
   "execution_count": 24,
   "id": "5e6fc6e4",
   "metadata": {},
   "outputs": [
    {
     "data": {
      "text/plain": [
       "OrderSendResult(retcode=10027, deal=0, order=0, volume=0.0, price=0.0, bid=0.0, ask=0.0, comment='AutoTrading disabled by client', request_id=0, retcode_external=0, request=TradeRequest(action=1, magic=0, order=0, symbol='EURUSD', volume=0.01, price=1.01458, stoplimit=0.0, sl=0.0, tp=0.0, deviation=10, type=1, type_filling=2, type_time=0, expiration=0, comment='', position=0, position_by=0))"
      ]
     },
     "execution_count": 24,
     "metadata": {},
     "output_type": "execute_result"
    }
   ],
   "source": [
    "#Programar orden de venta \n",
    "request = {\n",
    "    'action': mt5.TRADE_ACTION_DEAL,\n",
    "    'symbol': symbol,\n",
    "    'volume': lot,\n",
    "    'type': mt5.ORDER_TYPE_SELL,\n",
    "    'price': mt5.symbol_info_tick(symbol).bid,\n",
    "    'deviation':deviation,\n",
    "    'type_filling': filling_type,\n",
    "    'type_time': mt5.ORDER_TIME_GTC\n",
    "}\n",
    "mt5.order_send(request)\n"
   ]
  },
  {
   "cell_type": "code",
   "execution_count": 25,
   "id": "98089510",
   "metadata": {},
   "outputs": [],
   "source": [
    "#Cerrar orden de compra\n",
    "request = {\n",
    "    'action': mt5.TRADE_ACTION_DEAL,\n",
    "    'symbol': symbol,\n",
    "    'position': 'no. orden',\n",
    "    'volume': lot,\n",
    "    'type': mt5.ORDER_TYPE_SELL, #aquí es importante mantener en sell porque venderemos\n",
    "    'price': mt5.symbol_info_tick(symbol).bid, \n",
    "    'deviation':deviation,\n",
    "    'type_filling': filling_type,\n",
    "    'type_time': mt5.ORDER_TIME_GTC\n",
    "}\n"
   ]
  },
  {
   "cell_type": "code",
   "execution_count": 26,
   "id": "be97c9e7",
   "metadata": {},
   "outputs": [],
   "source": [
    "#Cerrar orden de venta\n",
    "request = {\n",
    "    'action': mt5.TRADE_ACTION_DEAL,\n",
    "    'symbol': symbol,\n",
    "    'position': 'no. orden',\n",
    "    'volume': lot,\n",
    "    'type': mt5.ORDER_TYPE_BUY, #aquí es importante mantener en buy porque compraremos\n",
    "    'price': mt5.symbol_info_tick(symbol).ask, \n",
    "    'deviation':deviation,\n",
    "    'type_filling': filling_type,\n",
    "    'type_time': mt5.ORDER_TIME_GTC\n",
    "}"
   ]
  },
  {
   "cell_type": "code",
   "execution_count": 3,
   "id": "679bd2c7",
   "metadata": {},
   "outputs": [],
   "source": [
    "#Automatizar el proceso\n",
    "#Magic number, nos sirve para manejar diferentes bots y enumerarlos\n",
    "\n",
    "def send_order(symbol, lot, buy, sell, id_position = None, magic = 0):\n",
    "    \n",
    "    #Inicializar la conexión con MT5 y python\n",
    "    mt5.initialize()\n",
    "    \n",
    "    #Extraer el estado de filling del simbolo\n",
    "    filling_type = mt5.symbol_info(symbol).filling_mode\n",
    "    \n",
    "    \"\"\" ABRIR UNA OPERACIÓN COMPRA \"\"\"\n",
    "    \n",
    "    if buy and id_position == None:\n",
    "        request = {\n",
    "        'action': mt5.TRADE_ACTION_DEAL,\n",
    "        'symbol': symbol,\n",
    "        'volume': lot,\n",
    "        'type': mt5.ORDER_TYPE_BUY, \n",
    "        'price': mt5.symbol_info_tick(symbol).ask, \n",
    "        'deviation':10,\n",
    "        'magic': magic,\n",
    "        'type_filling': filling_type,\n",
    "        'type_time': mt5.ORDER_TIME_GTC\n",
    "    }\n",
    "        result = mt5.order_send(request)\n",
    "        return result\n",
    "    \n",
    "    \"\"\" ABRIR UNA OPERACIÓN VENTA \"\"\"\n",
    "    \n",
    "    if sell and id_position==None:\n",
    "        request = {\n",
    "    'action': mt5.TRADE_ACTION_DEAL,\n",
    "    'symbol': symbol,\n",
    "    'volume': lot,\n",
    "    'type': mt5.ORDER_TYPE_SELL, \n",
    "    'price': mt5.symbol_info_tick(symbol).bid, \n",
    "    'deviation':10,\n",
    "    'magic': magic,\n",
    "    'type_filling': filling_type,\n",
    "    'type_time': mt5.ORDER_TIME_GTC\n",
    "}\n",
    "        result = mt5.order_send(request)\n",
    "        return result\n",
    "\n",
    "    \"\"\" CERRAR UNA POSICIÓN COMPRA \"\"\"\n",
    "\n",
    "    if buy and id_position != None:\n",
    "        request = {\n",
    "    'action': mt5.TRADE_ACTION_DEAL,\n",
    "    'symbol': symbol,\n",
    "    'volume': lot,\n",
    "    'type': mt5.ORDER_TYPE_SELL, \n",
    "    'price': mt5.symbol_info_tick(symbol).bid, \n",
    "    'deviation':10,\n",
    "    'magic': magic,\n",
    "    'type_filling': filling_type,\n",
    "    'type_time': mt5.ORDER_TIME_GTC\n",
    "}\n",
    "        result = mt5.order_send(request)\n",
    "        return result\n",
    "    \n",
    "    \"\"\" CERRAR UNA POSICIÓN VENTA \"\"\"\n",
    "\n",
    "    if sell and id_position != None:\n",
    "        request = {\n",
    "    'action': mt5.TRADE_ACTION_DEAL,\n",
    "    'symbol': symbol,\n",
    "    'volume': lot,\n",
    "    'type': mt5.ORDER_TYPE_BUY, \n",
    "    'price': mt5.symbol_info_tick(symbol).ask, \n",
    "    'deviation':10,\n",
    "    'magic': magic,\n",
    "    'type_filling': filling_type,\n",
    "    'type_time': mt5.ORDER_TIME_GTC\n",
    "}\n",
    "        result = mt5.order_send(request)\n",
    "        return result\n",
    "    "
   ]
  },
  {
   "cell_type": "code",
   "execution_count": 5,
   "id": "304b38ad",
   "metadata": {},
   "outputs": [
    {
     "data": {
      "text/plain": [
       "OrderSendResult(retcode=10030, deal=0, order=0, volume=0.0, price=0.0, bid=0.0, ask=0.0, comment='Unsupported filling mode', request_id=0, retcode_external=0, request=TradeRequest(action=1, magic=0, order=0, symbol='EURUSD', volume=0.01, price=1.00829, stoplimit=0.0, sl=0.0, tp=0.0, deviation=10, type=0, type_filling=2, type_time=0, expiration=0, comment='', position=0, position_by=0))"
      ]
     },
     "execution_count": 5,
     "metadata": {},
     "output_type": "execute_result"
    }
   ],
   "source": [
    "#abriendo una posición con nuestra función\n",
    "information = send_order('EURUSD', 0.01, True, False)\n",
    "information"
   ]
  },
  {
   "cell_type": "code",
   "execution_count": 6,
   "id": "b9200ab0",
   "metadata": {},
   "outputs": [
    {
     "data": {
      "text/plain": [
       "OrderSendResult(retcode=10030, deal=0, order=0, volume=0.0, price=0.0, bid=0.0, ask=0.0, comment='Unsupported filling mode', request_id=0, retcode_external=0, request=TradeRequest(action=1, magic=0, order=0, symbol='EURUSD', volume=0.01, price=1.00824, stoplimit=0.0, sl=0.0, tp=0.0, deviation=10, type=1, type_filling=2, type_time=0, expiration=0, comment='', position=0, position_by=0))"
      ]
     },
     "execution_count": 6,
     "metadata": {},
     "output_type": "execute_result"
    }
   ],
   "source": [
    "send_order('EURUSD',0.01,True,False, id_position=information.order)"
   ]
  },
  {
   "cell_type": "code",
   "execution_count": 9,
   "id": "6988c101",
   "metadata": {},
   "outputs": [
    {
     "data": {
      "text/plain": [
       "OrderSendResult(retcode=10030, deal=0, order=0, volume=0.0, price=0.0, bid=0.0, ask=0.0, comment='Unsupported filling mode', request_id=0, retcode_external=0, request=TradeRequest(action=1, magic=0, order=0, symbol='EURUSD', volume=0.01, price=1.00824, stoplimit=0.0, sl=1.0072400000000001, tp=1.00924, deviation=10, type=0, type_filling=2, type_time=0, expiration=0, comment='', position=0, position_by=0))"
      ]
     },
     "execution_count": 9,
     "metadata": {},
     "output_type": "execute_result"
    }
   ],
   "source": [
    "#Programando un take profit y stop loss \n",
    "\n",
    "#Inicializar la conexión con MT5 y python\n",
    "mt5.initialize()\n",
    "lot = 0.01\n",
    "symbol = 'EURUSD'\n",
    "deviation = 10\n",
    "point = mt5.symbol_info(symbol).point\n",
    "#Extraer el estado de filling del simbolo\n",
    "filling_type = mt5.symbol_info(symbol).filling_mode\n",
    "\n",
    "request = {\n",
    "    'action': mt5.TRADE_ACTION_DEAL,\n",
    "    'symbol': symbol,\n",
    "    'volume': lot,\n",
    "    'type': mt5.ORDER_TYPE_BUY, \n",
    "    'price': mt5.symbol_info_tick(symbol).ask, \n",
    "    'deviation':10,\n",
    "    'tp': mt5.symbol_info_tick(symbol).ask + 100*point,\n",
    "    'sl': mt5.symbol_info_tick(symbol).ask - 100*point,\n",
    "    'type_filling': filling_type,\n",
    "    'type_time': mt5.ORDER_TIME_GTC\n",
    "}\n",
    "\n",
    "mt5.order_send(request)"
   ]
  },
  {
   "cell_type": "markdown",
   "id": "e6cb439f",
   "metadata": {},
   "source": [
    "Money management"
   ]
  },
  {
   "cell_type": "code",
   "execution_count": 10,
   "id": "076412e9",
   "metadata": {},
   "outputs": [],
   "source": [
    "import MetaTrader5 as mt5\n",
    "import numpy as np\n",
    "\n",
    "def risk_reward(symbol, buy = True, risk = 0.01, reward = 0.02):\n",
    "    \n",
    "    #Extraer el apalancamiento\n",
    "    leverage = mt5.account_info().leverage\n",
    "    \n",
    "    price = mt5.symbol_info(symbol).ask\n",
    "    \n",
    "    #Extayendo los decimales del precio\n",
    "    no_decimal = str(price)[::-1].find('.')\n",
    "    \n",
    "    var_down = risk/leverage\n",
    "    var_up = reward/leverage\n",
    "    \n",
    "    price_var_down = var_down*price\n",
    "    price_var_up = var_up * price\n",
    "    \n",
    "    if buy:\n",
    "        price = mt5.symbol_info(symbol).ask\n",
    "        \n",
    "        tp = np.round(price + price_var_up, no_decimal)\n",
    "        sl = np.round(price - price_var_down, no_decimal)\n",
    "    else:\n",
    "        price = mt5.symbol_info(symbol).bid\n",
    "        \n",
    "        tp = np.round(price - price_var_up, no_decimal)\n",
    "        sl = np.round(price, + var_down,no_decimal)\n",
    "        \n",
    "    print(f'Price: {price} \\t Take Profit: {tp} \\t Stop Loss: {sl}')"
   ]
  },
  {
   "cell_type": "code",
   "execution_count": 11,
   "id": "4d5ba1d6",
   "metadata": {},
   "outputs": [
    {
     "name": "stdout",
     "output_type": "stream",
     "text": [
      "Price: 1.00827 \t Take Profit: 1.00834 \t Stop Loss: 1.00824\n"
     ]
    }
   ],
   "source": [
    "risk_reward('EURUSD', buy=True)"
   ]
  },
  {
   "cell_type": "code",
   "execution_count": 12,
   "id": "ebbd87d4",
   "metadata": {},
   "outputs": [
    {
     "name": "stdout",
     "output_type": "stream",
     "text": [
      "Capital invertido: 1000\n",
      "Apalancamiento: 300\n",
      "Capital invertido/apalancado: 300000\n",
      "Tamaño de posición: 100000.0\n",
      "Precio: 1.00826\n",
      "Tamaño de lotaje: 2.9754230059706823\n",
      "Lotaje minimo: 0.01\n",
      "Lotaje maximo: 200.0\n",
      "Número decimal: 2\n",
      "Tamaño de lotaje: 2.98\n",
      "Lotaje redondeado: 2.97\n"
     ]
    }
   ],
   "source": [
    "#Calcular el SL o TP dependiendo el riesgo y apalancamiento\n",
    "#Especificando el lotaje\n",
    "\n",
    "def position_size(capital, symbol):\n",
    "    mt5.initialize()\n",
    "    \n",
    "    print(f'Capital invertido: {capital}')\n",
    "    \n",
    "    leverage = mt5.account_info().leverage\n",
    "    print(f'Apalancamiento: {leverage}')\n",
    "    \n",
    "    invested_capital = capital * leverage\n",
    "    print(f'Capital invertido/apalancado: {invested_capital}') \n",
    "    \n",
    "    trade_size = mt5.symbol_info(symbol).trade_contract_size\n",
    "    print(f'Tamaño de posición: {trade_size}')\n",
    "    \n",
    "    price = (mt5.symbol_info(symbol).ask + mt5.symbol_info(symbol).bid) / 2\n",
    "    print(f'Precio: {price}')\n",
    "\n",
    "    lot_size = invested_capital / trade_size / price\n",
    "    print(f'Tamaño de lotaje: {lot_size}')\n",
    "    \n",
    "    min_lot = mt5.symbol_info(symbol).volume_min\n",
    "    print(f'Lotaje minimo: {min_lot}')\n",
    "        \n",
    "    max_lot = mt5.symbol_info(symbol).volume_max\n",
    "    print(f'Lotaje maximo: {max_lot}')\n",
    "    \n",
    "    \n",
    "    if min_lot < lot_size:\n",
    "        number_decimal = str(min_lot)[::-1].find('.')\n",
    "        print(f'Número decimal: {number_decimal}')\n",
    "        \n",
    "        if number_decimal > 0:\n",
    "            lot_size_rounded = np.round(lot_size,number_decimal)\n",
    "            print(f'Tamaño de lotaje: {lot_size_rounded}')\n",
    "            \n",
    "            if lot_size < lot_size_rounded:\n",
    "                lot_size_rounded = np.round(lot_size_rounded - min_lot, number_decimal)\n",
    "                print(f'Lotaje redondeado: {lot_size_rounded}')\n",
    "            \n",
    "            else: \n",
    "                number_size_lot = len(str(min_lot))\n",
    "                \n",
    "                lot_size_rounded = int(np.round(lot_size_rounded - number_size_lot, - number_size_lot))\n",
    "                \n",
    "                if lot_size_rounded > max_lot:\n",
    "                    lot_size_rounded = max_lot\n",
    "                \n",
    "                print(f'Lotaje recomendado: {lot_size_rounded}')\n",
    "                return lot_size_rounded\n",
    "        else:\n",
    "            print('El capital invertido es demasiado pequeño para poner una orden')\n",
    "                \n",
    "                \n",
    "position_size(1000,'EURUSD') \n"
   ]
  },
  {
   "cell_type": "markdown",
   "id": "36cb447f",
   "metadata": {},
   "source": [
    "Ordenes limite"
   ]
  },
  {
   "cell_type": "code",
   "execution_count": 13,
   "id": "769b298c",
   "metadata": {},
   "outputs": [],
   "source": [
    "#Programar una orden limite\n",
    "#Import libraries\n",
    "import MetaTrader5 as mt5\n",
    "\n",
    "#Conexión con mt5\n",
    "mt5.initialize()\n",
    "\n",
    "symbol = 'EURUSD'\n",
    "filling_type = mt5.symbol_info(symbol).filling_mode\n",
    "\n",
    "point = mt5.symbol_info(symbol).point"
   ]
  },
  {
   "cell_type": "code",
   "execution_count": 14,
   "id": "d011453b",
   "metadata": {},
   "outputs": [
    {
     "data": {
      "text/plain": [
       "OrderSendResult(retcode=10009, deal=0, order=242963586, volume=1.0, price=0.0, bid=0.0, ask=0.0, comment='Request executed', request_id=1, retcode_external=0, request=TradeRequest(action=5, magic=0, order=0, symbol='EURUSD', volume=1.0, price=1.0092899999999998, stoplimit=0.0, sl=0.0, tp=0.0, deviation=0, type=3, type_filling=2, type_time=0, expiration=0, comment='', position=0, position_by=0))"
      ]
     },
     "execution_count": 14,
     "metadata": {},
     "output_type": "execute_result"
    }
   ],
   "source": [
    "#Sell limit\n",
    "\n",
    "request = {\n",
    "    'action': mt5.TRADE_ACTION_PENDING,\n",
    "    'symbol':symbol,\n",
    "    'volume': 1.0,\n",
    "    'type': mt5.ORDER_TYPE_SELL_LIMIT,\n",
    "    'price': mt5.symbol_info_tick(symbol).bid+100*point,\n",
    "    'type_filling': filling_type,\n",
    "    'type_time':mt5.ORDER_TIME_GTC,\n",
    "}\n",
    "\n",
    "info_order = mt5.order_send(request)\n",
    "info_order"
   ]
  },
  {
   "cell_type": "code",
   "execution_count": 15,
   "id": "f0f59b77",
   "metadata": {},
   "outputs": [
    {
     "data": {
      "text/plain": [
       "OrderSendResult(retcode=10009, deal=0, order=242963586, volume=0.0, price=0.0, bid=0.0, ask=0.0, comment='Request executed', request_id=2, retcode_external=0, request=TradeRequest(action=8, magic=0, order=242963586, symbol='', volume=0.0, price=0.0, stoplimit=0.0, sl=0.0, tp=0.0, deviation=0, type=0, type_filling=0, type_time=0, expiration=0, comment='', position=0, position_by=0))"
      ]
     },
     "execution_count": 15,
     "metadata": {},
     "output_type": "execute_result"
    }
   ],
   "source": [
    "#Quitar una orden programada\n",
    "request = {\n",
    "    'action' : mt5.TRADE_ACTION_REMOVE,\n",
    "    'order': info_order.order,\n",
    "}\n",
    "result = mt5.order_send(request)\n",
    "result"
   ]
  },
  {
   "cell_type": "code",
   "execution_count": 69,
   "id": "a9c794a9",
   "metadata": {},
   "outputs": [
    {
     "data": {
      "text/plain": [
       "OrderSendResult(retcode=10009, deal=0, order=0, volume=0.0, price=0.0, bid=0.0, ask=0.0, comment='Request executed', request_id=1, retcode_external=0, request=TradeRequest(action=6, magic=0, order=0, symbol='EURUSD', volume=0.5, price=1.01475, stoplimit=0.0, sl=0.9151900000000001, tp=1.1151900000000001, deviation=10, type=0, type_filling=2, type_time=0, expiration=0, comment='', position=242635581, position_by=0))"
      ]
     },
     "execution_count": 69,
     "metadata": {},
     "output_type": "execute_result"
    }
   ],
   "source": [
    "#Cambiar el sl / tp de una orden activa para orden buy\n",
    "mt5.initialize()\n",
    "\n",
    "deviation = 10\n",
    "symbol = 'EURUSD'\n",
    "\n",
    "request = {\n",
    "    'action' : mt5.TRADE_ACTION_SLTP,\n",
    "    'symbol' : symbol,\n",
    "    'position' : 242635581,\n",
    "    'volume' : 0.5,\n",
    "    'type': mt5.ORDER_TYPE_BUY, \n",
    "    'price' : 1.01475,\n",
    "    'deviation' : deviation,\n",
    "    'sl' : mt5.symbol_info_tick(symbol).ask - 10000 * point, #100 pips\n",
    "    'tp': mt5.symbol_info_tick(symbol).ask + 10000 * point, \n",
    "    'type_filling' : filling_type,\n",
    "    'type_time' : mt5.ORDER_TIME_GTC\n",
    "}\n",
    "\n",
    "mt5.order_send(request)\n"
   ]
  },
  {
   "cell_type": "code",
   "execution_count": 79,
   "id": "59e678d8",
   "metadata": {},
   "outputs": [
    {
     "data": {
      "text/plain": [
       "OrderSendResult(retcode=10009, deal=0, order=0, volume=0.0, price=0.0, bid=0.0, ask=0.0, comment='Request executed', request_id=4, retcode_external=0, request=TradeRequest(action=6, magic=0, order=0, symbol='EURUSD', volume=0.5, price=1.01515, stoplimit=0.0, sl=1.1149900000000001, tp=0.9149900000000001, deviation=10, type=1, type_filling=2, type_time=0, expiration=0, comment='', position=242644250, position_by=0))"
      ]
     },
     "execution_count": 79,
     "metadata": {},
     "output_type": "execute_result"
    }
   ],
   "source": [
    "#Cambiar el sl / tp de una orden activa para orden sell\n",
    "\n",
    "deviation = 10\n",
    "symbol = 'EURUSD'\n",
    "\n",
    "request = {\n",
    "    'action' : mt5.TRADE_ACTION_SLTP,\n",
    "    'symbol' : symbol,\n",
    "    'position' : 242644250,\n",
    "    'volume' : 0.5,\n",
    "    'type': mt5.ORDER_TYPE_SELL, \n",
    "    'price' : 1.01515,\n",
    "    'deviation' : deviation,\n",
    "    'sl' : mt5.symbol_info_tick(symbol).ask + 10000 * point, #100 pips\n",
    "    'tp': mt5.symbol_info_tick(symbol).ask - 10000 * point, \n",
    "    'type_filling' : filling_type,\n",
    "    'type_time' : mt5.ORDER_TIME_GTC\n",
    "}\n",
    "\n",
    "mt5.order_send(request)"
   ]
  },
  {
   "cell_type": "code",
   "execution_count": 1,
   "id": "48ccd359",
   "metadata": {},
   "outputs": [
    {
     "data": {
      "text/html": [
       "<div>\n",
       "<style scoped>\n",
       "    .dataframe tbody tr th:only-of-type {\n",
       "        vertical-align: middle;\n",
       "    }\n",
       "\n",
       "    .dataframe tbody tr th {\n",
       "        vertical-align: top;\n",
       "    }\n",
       "\n",
       "    .dataframe thead th {\n",
       "        text-align: right;\n",
       "    }\n",
       "</style>\n",
       "<table border=\"1\" class=\"dataframe\">\n",
       "  <thead>\n",
       "    <tr style=\"text-align: right;\">\n",
       "      <th></th>\n",
       "      <th>ticket</th>\n",
       "      <th>position</th>\n",
       "      <th>symbol</th>\n",
       "      <th>volume</th>\n",
       "      <th>magic</th>\n",
       "      <th>profit</th>\n",
       "      <th>price</th>\n",
       "      <th>tp</th>\n",
       "      <th>sl</th>\n",
       "      <th>trade_size</th>\n",
       "    </tr>\n",
       "  </thead>\n",
       "  <tbody>\n",
       "    <tr>\n",
       "      <th>0</th>\n",
       "      <td>242969402</td>\n",
       "      <td>0</td>\n",
       "      <td>EURUSD</td>\n",
       "      <td>0.5</td>\n",
       "      <td>0</td>\n",
       "      <td>-343.0</td>\n",
       "      <td>1.00888</td>\n",
       "      <td>0.0</td>\n",
       "      <td>0.0</td>\n",
       "      <td>100000.0</td>\n",
       "    </tr>\n",
       "    <tr>\n",
       "      <th>0</th>\n",
       "      <td>242973391</td>\n",
       "      <td>0</td>\n",
       "      <td>EURUSD</td>\n",
       "      <td>0.5</td>\n",
       "      <td>0</td>\n",
       "      <td>-331.0</td>\n",
       "      <td>1.00864</td>\n",
       "      <td>0.0</td>\n",
       "      <td>0.0</td>\n",
       "      <td>100000.0</td>\n",
       "    </tr>\n",
       "    <tr>\n",
       "      <th>0</th>\n",
       "      <td>242973542</td>\n",
       "      <td>0</td>\n",
       "      <td>EURUSD</td>\n",
       "      <td>3.0</td>\n",
       "      <td>0</td>\n",
       "      <td>-1914.0</td>\n",
       "      <td>1.0084</td>\n",
       "      <td>0.0</td>\n",
       "      <td>0.0</td>\n",
       "      <td>100000.0</td>\n",
       "    </tr>\n",
       "    <tr>\n",
       "      <th>0</th>\n",
       "      <td>243259763</td>\n",
       "      <td>0</td>\n",
       "      <td>EURUSD</td>\n",
       "      <td>5.0</td>\n",
       "      <td>0</td>\n",
       "      <td>-225.0</td>\n",
       "      <td>1.00247</td>\n",
       "      <td>0.0</td>\n",
       "      <td>0.0</td>\n",
       "      <td>100000.0</td>\n",
       "    </tr>\n",
       "  </tbody>\n",
       "</table>\n",
       "</div>"
      ],
      "text/plain": [
       "      ticket position  symbol volume magic  profit    price   tp   sl  \\\n",
       "0  242969402        0  EURUSD    0.5     0  -343.0  1.00888  0.0  0.0   \n",
       "0  242973391        0  EURUSD    0.5     0  -331.0  1.00864  0.0  0.0   \n",
       "0  242973542        0  EURUSD    3.0     0 -1914.0   1.0084  0.0  0.0   \n",
       "0  243259763        0  EURUSD    5.0     0  -225.0  1.00247  0.0  0.0   \n",
       "\n",
       "  trade_size  \n",
       "0   100000.0  \n",
       "0   100000.0  \n",
       "0   100000.0  \n",
       "0   100000.0  "
      ]
     },
     "execution_count": 1,
     "metadata": {},
     "output_type": "execute_result"
    }
   ],
   "source": [
    "#Extraer información de las posiciones actuales \n",
    "import MetaTrader5 as mt5\n",
    "import pandas as pd\n",
    "import numpy as np\n",
    "import time\n",
    "\n",
    "mt5.initialize()\n",
    "\n",
    "def info_order():\n",
    "    #definir nombre de las columnas \n",
    "    columns = ['ticket', 'position','symbol','volume','magic','profit','price','tp','sl','trade_size']\n",
    "    \n",
    "    #tomar la información de los trades abiertos\n",
    "    list_current = mt5.positions_get()\n",
    "    \n",
    "    #Crear un dataframe\n",
    "    df = pd.DataFrame()\n",
    "    \n",
    "    for element in list_current:\n",
    "        element_pandas = pd.DataFrame([element.ticket, element.type, element.symbol, element.volume,element.magic,\n",
    "                                       element.profit,element.price_open,element.tp,element.sl,\n",
    "                                       mt5.symbol_info(element.symbol).trade_contract_size], index = columns).transpose()\n",
    "        df = pd.concat((df,element_pandas), axis=0)\n",
    "    return df\n",
    "\n",
    "info_order()"
   ]
  },
  {
   "cell_type": "markdown",
   "id": "d8b8b224",
   "metadata": {},
   "source": [
    "Trailing stop loss"
   ]
  },
  {
   "cell_type": "code",
   "execution_count": null,
   "id": "4c22f2e1",
   "metadata": {},
   "outputs": [],
   "source": [
    "def trailing_stop():\n",
    "    \n",
    "#Crear dict que contengan el maximo y minimo de cada simbolo\n",
    "    max_price = dict()\n",
    "    min_price = dict()\n",
    "\n",
    "    #Loop infinito\n",
    "    while True:\n",
    "        \n",
    "        #Extrayendo información de nuestras posiciones actuales\n",
    "        position_open = info_order()\n",
    "        \n",
    "        #Verificando cuantas asi hay posiciones abiertas\n",
    "        if position_open.shape[0] > 0:\n",
    "            for i in range(position_open.shape[0]):\n",
    "                \n",
    "                row = position_open.iloc[i]\n",
    "                symbol = row['symbol']\n",
    "                \n",
    "                #Añadir la llave del dict en caso de no estar en la lista\n",
    "                if symbol not in max_price.keys():\n",
    "                    max_price[symbol] = row['price']\n",
    "                    \n",
    "                if symbol not in min_price.keys():\n",
    "                    min_price[symbol] = row['price']\n",
    "                \n",
    "                # Cambiar el stop loss de una orden de compra \n",
    "                \n",
    "                if row['position'] == 0:\n",
    "                    \n",
    "                    current_price = (mt5.symbol_info(symbol).ask + mt5.symbol_indo(symbol).bid) / 2\n",
    "                    \n",
    "                    #Distancia entre el precio actual y el maximo \n",
    "                    dif_sl_to_current_price = current_price - row['sl']\n",
    "                    dif_sl_to_max_price = max_price[symbol] - row['sl']\n",
    "                    \n",
    "                    #comparación del precio actual con el max anterior guardado--> detectar nuevo maximo\n",
    "                    if current_price > max_price[symbol]:\n",
    "                        max_price[symbol] = current_price\n",
    "                    \n",
    "                    if dif_sl_to_current_price > dif_sl_to_max_price:\n",
    "                        difference = dif_sl_to_current_price - dif_sl_to_max_price\n",
    "                        \n",
    "                        filling_type = mt5.symbol_info(symbol).filling_mode\n",
    "                        \n",
    "                        point = mt5.symbol_info(symbol).point\n",
    "\n",
    "                        #Cambiar la orden de sl\n",
    "                        request = {\n",
    "                            'action': mt5.TRADE_ACTION_SLTP,\n",
    "                            'symbol': symbol,\n",
    "                            'position': row['ticket'],\n",
    "                            'volume': row['volume'],\n",
    "                            'type': mt5.ORDER_TYPE_BUY,\n",
    "                            'price': row['price'],\n",
    "                            'sl': row['sl'] + difference,\n",
    "                            'type_filling': filling_type,\n",
    "                            'type_time': mt5.ORDER_TIME_GTC\n",
    "                        }\n",
    "                        information = mt5.order_send(request)\n",
    "                        print(information)\n",
    "                        \n",
    "                #Cambiar la el stop loss para orden de venta\n",
    "                \n",
    "                else:\n",
    "                    current_price = (mt5.symbol_info(symbol).ask + mt5.symbol_indo(symbol).bid) / 2\n",
    "                    \n",
    "                    #Distancia entre el precio actual y el maximo \n",
    "                    dif_sl_to_current_price = row['sl'] - current_price \n",
    "                    dif_sl_to_min_price = row['sl'] - min_price[symbol]\n",
    "                    \n",
    "                    #comparación del precio actual con el min anterior guardado--> detectar nuevo minimo\n",
    "                    if current_price < min_price[symbol]:\n",
    "                        min_price[symbol] = current_price\n",
    "                    \n",
    "                    if dif_sl_to_current_price > dif_sl_to_min_price:\n",
    "                        difference = dif_sl_to_current_price - dif_sl_to_min_price\n",
    "                        \n",
    "                        filling_type = mt5.symbol_info(symbol).filling_mode\n",
    "                        \n",
    "                        point = mt5.symbol_info(symbol).point\n",
    "\n",
    "                        #Cambiar la orden de sl\n",
    "                        request = {\n",
    "                            'action': mt5.TRADE_ACTION_SLTP,\n",
    "                            'symbol': symbol,\n",
    "                            'position': row['ticket'],\n",
    "                            'volume': row['volume'],\n",
    "                            'type': mt5.ORDER_TYPE_BUY,\n",
    "                            'price': row['price'],\n",
    "                            'sl': row['sl'] - difference,\n",
    "                            'type_filling': filling_type,\n",
    "                            'type_time': mt5.ORDER_TIME_GTC\n",
    "                        }\n",
    "                        information = mt5.order_send(request)\n",
    "                        print(information)\n",
    "\n",
    "        print(max_price)"
   ]
  }
 ],
 "metadata": {
  "kernelspec": {
   "display_name": "Python 3.10.4 64-bit",
   "language": "python",
   "name": "python3"
  },
  "language_info": {
   "codemirror_mode": {
    "name": "ipython",
    "version": 3
   },
   "file_extension": ".py",
   "mimetype": "text/x-python",
   "name": "python",
   "nbconvert_exporter": "python",
   "pygments_lexer": "ipython3",
   "version": "3.10.4"
  },
  "vscode": {
   "interpreter": {
    "hash": "7ce0eefcf62feafa0cceacfd587c96701d952e3e2fc5aec5e7b8b37643e01fc7"
   }
  }
 },
 "nbformat": 4,
 "nbformat_minor": 5
}
