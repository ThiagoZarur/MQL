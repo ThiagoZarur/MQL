{
 "cells": [
  {
   "cell_type": "code",
   "execution_count": 2,
   "id": "3f197f4d",
   "metadata": {},
   "outputs": [
    {
     "name": "stdout",
     "output_type": "stream",
     "text": [
      "Collecting ta\n",
      "  Using cached ta-0.10.1.tar.gz (24 kB)\n",
      "  Preparing metadata (setup.py): started\n",
      "  Preparing metadata (setup.py): finished with status 'done'\n",
      "Requirement already satisfied: numpy in c:\\users\\mi pc\\appdata\\local\\programs\\python\\python310\\lib\\site-packages (from ta) (1.22.4)\n",
      "Requirement already satisfied: pandas in c:\\users\\mi pc\\appdata\\local\\programs\\python\\python310\\lib\\site-packages (from ta) (1.4.2)\n",
      "Requirement already satisfied: python-dateutil>=2.8.1 in c:\\users\\mi pc\\appdata\\local\\programs\\python\\python310\\lib\\site-packages (from pandas->ta) (2.8.2)\n",
      "Requirement already satisfied: pytz>=2020.1 in c:\\users\\mi pc\\appdata\\local\\programs\\python\\python310\\lib\\site-packages (from pandas->ta) (2022.1)\n",
      "Requirement already satisfied: six>=1.5 in c:\\users\\mi pc\\appdata\\local\\programs\\python\\python310\\lib\\site-packages (from python-dateutil>=2.8.1->pandas->ta) (1.16.0)\n",
      "Using legacy 'setup.py install' for ta, since package 'wheel' is not installed.\n",
      "Installing collected packages: ta\n",
      "  Running setup.py install for ta: started\n",
      "  Running setup.py install for ta: finished with status 'done'\n",
      "Successfully installed ta-0.10.1\n",
      "Note: you may need to restart the kernel to use updated packages.\n",
      "Collecting datetime\n",
      "  Using cached DateTime-4.5-py2.py3-none-any.whl (52 kB)\n",
      "Collecting zope.interface\n",
      "  Downloading zope.interface-5.4.0.tar.gz (249 kB)\n",
      "     -------------------------------------- 249.3/249.3 kB 2.5 MB/s eta 0:00:00\n",
      "  Preparing metadata (setup.py): started\n",
      "  Preparing metadata (setup.py): finished with status 'done'\n",
      "Requirement already satisfied: pytz in c:\\users\\mi pc\\appdata\\local\\programs\\python\\python310\\lib\\site-packages (from datetime) (2022.1)\n",
      "Requirement already satisfied: setuptools in c:\\users\\mi pc\\appdata\\local\\programs\\python\\python310\\lib\\site-packages (from zope.interface->datetime) (62.3.2)\n",
      "Using legacy 'setup.py install' for zope.interface, since package 'wheel' is not installed.\n",
      "Installing collected packages: zope.interface, datetime\n",
      "  Running setup.py install for zope.interface: started\n",
      "  Running setup.py install for zope.interface: finished with status 'done'\n",
      "Successfully installed datetime-4.5 zope.interface-5.4.0\n",
      "Note: you may need to restart the kernel to use updated packages.\n"
     ]
    }
   ],
   "source": [
    "#Instalación de librerías \n",
    "%pip install ta\n",
    "%pip install datetime\n",
    "%pip install MetaTrader5\n"
   ]
  },
  {
   "cell_type": "code",
   "execution_count": 1,
   "id": "b5f16fb7",
   "metadata": {},
   "outputs": [],
   "source": [
    "import MetaTrader5 as mt5"
   ]
  },
  {
   "cell_type": "code",
   "execution_count": 16,
   "id": "d6735567",
   "metadata": {},
   "outputs": [
    {
     "data": {
      "text/plain": [
       "True"
      ]
     },
     "execution_count": 16,
     "metadata": {},
     "output_type": "execute_result"
    }
   ],
   "source": [
    "#crear un vínculo \n",
    "mt5.initialize() #esto abrira el metatrader "
   ]
  },
  {
   "cell_type": "code",
   "execution_count": 7,
   "id": "188459ed",
   "metadata": {},
   "outputs": [
    {
     "data": {
      "text/plain": [
       "(1, 'Success')"
      ]
     },
     "execution_count": 7,
     "metadata": {},
     "output_type": "execute_result"
    }
   ],
   "source": [
    "#Cachar los errores pendientes (error anterior)\n",
    "mt5.last_error()"
   ]
  },
  {
   "cell_type": "code",
   "execution_count": 8,
   "id": "e3c298be",
   "metadata": {},
   "outputs": [
    {
     "data": {
      "text/plain": [
       "True"
      ]
     },
     "execution_count": 8,
     "metadata": {},
     "output_type": "execute_result"
    }
   ],
   "source": [
    "#Cerrar el vínculo entre MT5 y Python\n",
    "mt5.shutdown()"
   ]
  },
  {
   "cell_type": "code",
   "execution_count": 36,
   "id": "81051fa8",
   "metadata": {},
   "outputs": [
    {
     "data": {
      "text/plain": [
       "5351.61"
      ]
     },
     "execution_count": 36,
     "metadata": {},
     "output_type": "execute_result"
    }
   ],
   "source": [
    "#Cuando el vínculo está cerrado, no dará ningún resultado de lo contrario, te dará información de tu cuenta\n",
    "mt5.initialize()\n",
    "information = mt5.account_info()\n",
    "#extraer el balance otras opciones --> login, leverage, server \n",
    "information.balance"
   ]
  },
  {
   "cell_type": "code",
   "execution_count": 35,
   "id": "71633961",
   "metadata": {},
   "outputs": [
    {
     "data": {
      "text/plain": [
       "1.04351"
      ]
     },
     "execution_count": 35,
     "metadata": {},
     "output_type": "execute_result"
    }
   ],
   "source": [
    "#Extrayendo la información de un simbolo, bid otras opciones --> ask, spread, description, path\n",
    "symbol = mt5.symbol_info('EURUSD')\n",
    "symbol.bid"
   ]
  },
  {
   "cell_type": "code",
   "execution_count": 36,
   "id": "933b64b5",
   "metadata": {},
   "outputs": [
    {
     "data": {
      "text/plain": [
       "True"
      ]
     },
     "execution_count": 36,
     "metadata": {},
     "output_type": "execute_result"
    }
   ],
   "source": [
    "#Conectando libro ordenes\n",
    "mt5.market_book_add('EURUSD')"
   ]
  },
  {
   "cell_type": "code",
   "execution_count": 38,
   "id": "3e7ff407",
   "metadata": {},
   "outputs": [
    {
     "data": {
      "text/plain": [
       "True"
      ]
     },
     "execution_count": 38,
     "metadata": {},
     "output_type": "execute_result"
    }
   ],
   "source": [
    "#Extrayendo datos del order book\n",
    "mt5.market_book_get('EURUSD')\n",
    "#Shutdown\n",
    "mt5.market_book_release('EURUSD')"
   ]
  },
  {
   "cell_type": "code",
   "execution_count": 40,
   "id": "807fccb2",
   "metadata": {},
   "outputs": [
    {
     "data": {
      "text/plain": [
       "True"
      ]
     },
     "execution_count": 40,
     "metadata": {},
     "output_type": "execute_result"
    }
   ],
   "source": [
    "#Agregando un par a tu lista de seguimiento \n",
    "mt5.symbol_select('USDJPY')"
   ]
  },
  {
   "cell_type": "code",
   "execution_count": 35,
   "id": "481d7e37",
   "metadata": {},
   "outputs": [],
   "source": [
    "##import ticks data de una la fecha actual\n",
    "from datetime import datetime\n",
    "import MetaTrader5 as mt5\n",
    "import pandas as pd\n"
   ]
  },
  {
   "cell_type": "code",
   "execution_count": 46,
   "id": "7bbb0f3d",
   "metadata": {},
   "outputs": [
    {
     "data": {
      "text/html": [
       "<div>\n",
       "<style scoped>\n",
       "    .dataframe tbody tr th:only-of-type {\n",
       "        vertical-align: middle;\n",
       "    }\n",
       "\n",
       "    .dataframe tbody tr th {\n",
       "        vertical-align: top;\n",
       "    }\n",
       "\n",
       "    .dataframe thead th {\n",
       "        text-align: right;\n",
       "    }\n",
       "</style>\n",
       "<table border=\"1\" class=\"dataframe\">\n",
       "  <thead>\n",
       "    <tr style=\"text-align: right;\">\n",
       "      <th></th>\n",
       "      <th>time</th>\n",
       "      <th>bid</th>\n",
       "      <th>ask</th>\n",
       "      <th>last</th>\n",
       "      <th>volume</th>\n",
       "      <th>time_msc</th>\n",
       "      <th>flags</th>\n",
       "      <th>volume_real</th>\n",
       "    </tr>\n",
       "  </thead>\n",
       "  <tbody>\n",
       "    <tr>\n",
       "      <th>0</th>\n",
       "      <td>2022-07-05 05:05:54</td>\n",
       "      <td>1.04322</td>\n",
       "      <td>1.04323</td>\n",
       "      <td>0.0</td>\n",
       "      <td>0</td>\n",
       "      <td>1656997554058</td>\n",
       "      <td>130</td>\n",
       "      <td>0.0</td>\n",
       "    </tr>\n",
       "    <tr>\n",
       "      <th>1</th>\n",
       "      <td>2022-07-05 05:05:54</td>\n",
       "      <td>1.04323</td>\n",
       "      <td>1.04323</td>\n",
       "      <td>0.0</td>\n",
       "      <td>0</td>\n",
       "      <td>1656997554319</td>\n",
       "      <td>130</td>\n",
       "      <td>0.0</td>\n",
       "    </tr>\n",
       "    <tr>\n",
       "      <th>2</th>\n",
       "      <td>2022-07-05 05:05:55</td>\n",
       "      <td>1.04324</td>\n",
       "      <td>1.04324</td>\n",
       "      <td>0.0</td>\n",
       "      <td>0</td>\n",
       "      <td>1656997555413</td>\n",
       "      <td>134</td>\n",
       "      <td>0.0</td>\n",
       "    </tr>\n",
       "    <tr>\n",
       "      <th>3</th>\n",
       "      <td>2022-07-05 05:05:56</td>\n",
       "      <td>1.04324</td>\n",
       "      <td>1.04326</td>\n",
       "      <td>0.0</td>\n",
       "      <td>0</td>\n",
       "      <td>1656997556714</td>\n",
       "      <td>4</td>\n",
       "      <td>0.0</td>\n",
       "    </tr>\n",
       "    <tr>\n",
       "      <th>4</th>\n",
       "      <td>2022-07-05 05:05:57</td>\n",
       "      <td>1.04325</td>\n",
       "      <td>1.04326</td>\n",
       "      <td>0.0</td>\n",
       "      <td>0</td>\n",
       "      <td>1656997557904</td>\n",
       "      <td>130</td>\n",
       "      <td>0.0</td>\n",
       "    </tr>\n",
       "    <tr>\n",
       "      <th>5</th>\n",
       "      <td>2022-07-05 05:05:59</td>\n",
       "      <td>1.04324</td>\n",
       "      <td>1.04326</td>\n",
       "      <td>0.0</td>\n",
       "      <td>0</td>\n",
       "      <td>1656997559242</td>\n",
       "      <td>130</td>\n",
       "      <td>0.0</td>\n",
       "    </tr>\n",
       "    <tr>\n",
       "      <th>6</th>\n",
       "      <td>2022-07-05 05:05:59</td>\n",
       "      <td>1.04324</td>\n",
       "      <td>1.04324</td>\n",
       "      <td>0.0</td>\n",
       "      <td>0</td>\n",
       "      <td>1656997559468</td>\n",
       "      <td>4</td>\n",
       "      <td>0.0</td>\n",
       "    </tr>\n",
       "    <tr>\n",
       "      <th>7</th>\n",
       "      <td>2022-07-05 05:05:59</td>\n",
       "      <td>1.04323</td>\n",
       "      <td>1.04324</td>\n",
       "      <td>0.0</td>\n",
       "      <td>0</td>\n",
       "      <td>1656997559907</td>\n",
       "      <td>130</td>\n",
       "      <td>0.0</td>\n",
       "    </tr>\n",
       "    <tr>\n",
       "      <th>8</th>\n",
       "      <td>2022-07-05 05:06:00</td>\n",
       "      <td>1.04323</td>\n",
       "      <td>1.04324</td>\n",
       "      <td>0.0</td>\n",
       "      <td>0</td>\n",
       "      <td>1656997560341</td>\n",
       "      <td>130</td>\n",
       "      <td>0.0</td>\n",
       "    </tr>\n",
       "    <tr>\n",
       "      <th>9</th>\n",
       "      <td>2022-07-05 05:06:00</td>\n",
       "      <td>1.04321</td>\n",
       "      <td>1.04323</td>\n",
       "      <td>0.0</td>\n",
       "      <td>0</td>\n",
       "      <td>1656997560558</td>\n",
       "      <td>134</td>\n",
       "      <td>0.0</td>\n",
       "    </tr>\n",
       "  </tbody>\n",
       "</table>\n",
       "</div>"
      ],
      "text/plain": [
       "                 time      bid      ask  last  volume       time_msc  flags  \\\n",
       "0 2022-07-05 05:05:54  1.04322  1.04323   0.0       0  1656997554058    130   \n",
       "1 2022-07-05 05:05:54  1.04323  1.04323   0.0       0  1656997554319    130   \n",
       "2 2022-07-05 05:05:55  1.04324  1.04324   0.0       0  1656997555413    134   \n",
       "3 2022-07-05 05:05:56  1.04324  1.04326   0.0       0  1656997556714      4   \n",
       "4 2022-07-05 05:05:57  1.04325  1.04326   0.0       0  1656997557904    130   \n",
       "5 2022-07-05 05:05:59  1.04324  1.04326   0.0       0  1656997559242    130   \n",
       "6 2022-07-05 05:05:59  1.04324  1.04324   0.0       0  1656997559468      4   \n",
       "7 2022-07-05 05:05:59  1.04323  1.04324   0.0       0  1656997559907    130   \n",
       "8 2022-07-05 05:06:00  1.04323  1.04324   0.0       0  1656997560341    130   \n",
       "9 2022-07-05 05:06:00  1.04321  1.04323   0.0       0  1656997560558    134   \n",
       "\n",
       "   volume_real  \n",
       "0          0.0  \n",
       "1          0.0  \n",
       "2          0.0  \n",
       "3          0.0  \n",
       "4          0.0  \n",
       "5          0.0  \n",
       "6          0.0  \n",
       "7          0.0  \n",
       "8          0.0  \n",
       "9          0.0  "
      ]
     },
     "execution_count": 46,
     "metadata": {},
     "output_type": "execute_result"
    }
   ],
   "source": [
    "from_date = datetime.now()\n",
    "#Extrayendo n ticks historicos\n",
    "ticks = mt5.copy_ticks_from('EURUSD', from_date,10,mt5.COPY_TICKS_ALL)\n",
    "#De array a dataframe\n",
    "df_ticks = pd.DataFrame(ticks)\n",
    "#convirtiendo la columna time \n",
    "df_ticks['time'] = pd.to_datetime(df_ticks['time'], unit='s')\n",
    "\n",
    "df_ticks"
   ]
  },
  {
   "cell_type": "code",
   "execution_count": 49,
   "id": "e01cced7",
   "metadata": {},
   "outputs": [
    {
     "data": {
      "text/html": [
       "<div>\n",
       "<style scoped>\n",
       "    .dataframe tbody tr th:only-of-type {\n",
       "        vertical-align: middle;\n",
       "    }\n",
       "\n",
       "    .dataframe tbody tr th {\n",
       "        vertical-align: top;\n",
       "    }\n",
       "\n",
       "    .dataframe thead th {\n",
       "        text-align: right;\n",
       "    }\n",
       "</style>\n",
       "<table border=\"1\" class=\"dataframe\">\n",
       "  <thead>\n",
       "    <tr style=\"text-align: right;\">\n",
       "      <th></th>\n",
       "      <th>time</th>\n",
       "      <th>bid</th>\n",
       "      <th>ask</th>\n",
       "      <th>last</th>\n",
       "      <th>volume</th>\n",
       "      <th>time_msc</th>\n",
       "      <th>flags</th>\n",
       "      <th>volume_real</th>\n",
       "    </tr>\n",
       "  </thead>\n",
       "  <tbody>\n",
       "    <tr>\n",
       "      <th>0</th>\n",
       "      <td>2022-01-05 06:00:00</td>\n",
       "      <td>1.12958</td>\n",
       "      <td>1.12958</td>\n",
       "      <td>0.0</td>\n",
       "      <td>0</td>\n",
       "      <td>1641362400943</td>\n",
       "      <td>134</td>\n",
       "      <td>0.0</td>\n",
       "    </tr>\n",
       "    <tr>\n",
       "      <th>1</th>\n",
       "      <td>2022-01-05 06:00:01</td>\n",
       "      <td>1.12957</td>\n",
       "      <td>1.12957</td>\n",
       "      <td>0.0</td>\n",
       "      <td>0</td>\n",
       "      <td>1641362401497</td>\n",
       "      <td>134</td>\n",
       "      <td>0.0</td>\n",
       "    </tr>\n",
       "    <tr>\n",
       "      <th>2</th>\n",
       "      <td>2022-01-05 06:00:02</td>\n",
       "      <td>1.12958</td>\n",
       "      <td>1.12958</td>\n",
       "      <td>0.0</td>\n",
       "      <td>0</td>\n",
       "      <td>1641362402171</td>\n",
       "      <td>134</td>\n",
       "      <td>0.0</td>\n",
       "    </tr>\n",
       "    <tr>\n",
       "      <th>3</th>\n",
       "      <td>2022-01-05 06:00:06</td>\n",
       "      <td>1.12959</td>\n",
       "      <td>1.12959</td>\n",
       "      <td>0.0</td>\n",
       "      <td>0</td>\n",
       "      <td>1641362406886</td>\n",
       "      <td>134</td>\n",
       "      <td>0.0</td>\n",
       "    </tr>\n",
       "    <tr>\n",
       "      <th>4</th>\n",
       "      <td>2022-01-05 06:00:10</td>\n",
       "      <td>1.12958</td>\n",
       "      <td>1.12958</td>\n",
       "      <td>0.0</td>\n",
       "      <td>0</td>\n",
       "      <td>1641362410834</td>\n",
       "      <td>134</td>\n",
       "      <td>0.0</td>\n",
       "    </tr>\n",
       "    <tr>\n",
       "      <th>...</th>\n",
       "      <td>...</td>\n",
       "      <td>...</td>\n",
       "      <td>...</td>\n",
       "      <td>...</td>\n",
       "      <td>...</td>\n",
       "      <td>...</td>\n",
       "      <td>...</td>\n",
       "      <td>...</td>\n",
       "    </tr>\n",
       "    <tr>\n",
       "      <th>52685</th>\n",
       "      <td>2022-01-06 05:59:44</td>\n",
       "      <td>1.13152</td>\n",
       "      <td>1.13153</td>\n",
       "      <td>0.0</td>\n",
       "      <td>0</td>\n",
       "      <td>1641448784730</td>\n",
       "      <td>4</td>\n",
       "      <td>0.0</td>\n",
       "    </tr>\n",
       "    <tr>\n",
       "      <th>52686</th>\n",
       "      <td>2022-01-06 05:59:54</td>\n",
       "      <td>1.13152</td>\n",
       "      <td>1.13152</td>\n",
       "      <td>0.0</td>\n",
       "      <td>0</td>\n",
       "      <td>1641448794840</td>\n",
       "      <td>4</td>\n",
       "      <td>0.0</td>\n",
       "    </tr>\n",
       "    <tr>\n",
       "      <th>52687</th>\n",
       "      <td>2022-01-06 05:59:56</td>\n",
       "      <td>1.13152</td>\n",
       "      <td>1.13153</td>\n",
       "      <td>0.0</td>\n",
       "      <td>0</td>\n",
       "      <td>1641448796297</td>\n",
       "      <td>4</td>\n",
       "      <td>0.0</td>\n",
       "    </tr>\n",
       "    <tr>\n",
       "      <th>52688</th>\n",
       "      <td>2022-01-06 05:59:57</td>\n",
       "      <td>1.13152</td>\n",
       "      <td>1.13152</td>\n",
       "      <td>0.0</td>\n",
       "      <td>0</td>\n",
       "      <td>1641448797074</td>\n",
       "      <td>4</td>\n",
       "      <td>0.0</td>\n",
       "    </tr>\n",
       "    <tr>\n",
       "      <th>52689</th>\n",
       "      <td>2022-01-06 05:59:59</td>\n",
       "      <td>1.13152</td>\n",
       "      <td>1.13153</td>\n",
       "      <td>0.0</td>\n",
       "      <td>0</td>\n",
       "      <td>1641448799976</td>\n",
       "      <td>4</td>\n",
       "      <td>0.0</td>\n",
       "    </tr>\n",
       "  </tbody>\n",
       "</table>\n",
       "<p>52690 rows × 8 columns</p>\n",
       "</div>"
      ],
      "text/plain": [
       "                     time      bid      ask  last  volume       time_msc  \\\n",
       "0     2022-01-05 06:00:00  1.12958  1.12958   0.0       0  1641362400943   \n",
       "1     2022-01-05 06:00:01  1.12957  1.12957   0.0       0  1641362401497   \n",
       "2     2022-01-05 06:00:02  1.12958  1.12958   0.0       0  1641362402171   \n",
       "3     2022-01-05 06:00:06  1.12959  1.12959   0.0       0  1641362406886   \n",
       "4     2022-01-05 06:00:10  1.12958  1.12958   0.0       0  1641362410834   \n",
       "...                   ...      ...      ...   ...     ...            ...   \n",
       "52685 2022-01-06 05:59:44  1.13152  1.13153   0.0       0  1641448784730   \n",
       "52686 2022-01-06 05:59:54  1.13152  1.13152   0.0       0  1641448794840   \n",
       "52687 2022-01-06 05:59:56  1.13152  1.13153   0.0       0  1641448796297   \n",
       "52688 2022-01-06 05:59:57  1.13152  1.13152   0.0       0  1641448797074   \n",
       "52689 2022-01-06 05:59:59  1.13152  1.13153   0.0       0  1641448799976   \n",
       "\n",
       "       flags  volume_real  \n",
       "0        134          0.0  \n",
       "1        134          0.0  \n",
       "2        134          0.0  \n",
       "3        134          0.0  \n",
       "4        134          0.0  \n",
       "...      ...          ...  \n",
       "52685      4          0.0  \n",
       "52686      4          0.0  \n",
       "52687      4          0.0  \n",
       "52688      4          0.0  \n",
       "52689      4          0.0  \n",
       "\n",
       "[52690 rows x 8 columns]"
      ]
     },
     "execution_count": 49,
     "metadata": {},
     "output_type": "execute_result"
    }
   ],
   "source": [
    "#importando ticks con un rango de tiempo \n",
    "from_date = datetime(2022,1,5)\n",
    "to_date = datetime(2022,1,6)\n",
    "\n",
    "ticks = mt5.copy_ticks_range('EURUSD',from_date,to_date,mt5.COPY_TICKS_ALL)\n",
    "df_ticks = pd.DataFrame(ticks)\n",
    "df_ticks['time'] = pd.to_datetime(df_ticks['time'], unit='s')\n",
    "df_ticks\n"
   ]
  },
  {
   "cell_type": "code",
   "execution_count": 52,
   "id": "c6dca697",
   "metadata": {},
   "outputs": [
    {
     "data": {
      "text/html": [
       "<div>\n",
       "<style scoped>\n",
       "    .dataframe tbody tr th:only-of-type {\n",
       "        vertical-align: middle;\n",
       "    }\n",
       "\n",
       "    .dataframe tbody tr th {\n",
       "        vertical-align: top;\n",
       "    }\n",
       "\n",
       "    .dataframe thead th {\n",
       "        text-align: right;\n",
       "    }\n",
       "</style>\n",
       "<table border=\"1\" class=\"dataframe\">\n",
       "  <thead>\n",
       "    <tr style=\"text-align: right;\">\n",
       "      <th></th>\n",
       "      <th>time</th>\n",
       "      <th>open</th>\n",
       "      <th>high</th>\n",
       "      <th>low</th>\n",
       "      <th>close</th>\n",
       "      <th>tick_volume</th>\n",
       "      <th>spread</th>\n",
       "      <th>real_volume</th>\n",
       "    </tr>\n",
       "  </thead>\n",
       "  <tbody>\n",
       "    <tr>\n",
       "      <th>0</th>\n",
       "      <td>2022-06-22</td>\n",
       "      <td>1.05330</td>\n",
       "      <td>1.06056</td>\n",
       "      <td>1.04690</td>\n",
       "      <td>1.05688</td>\n",
       "      <td>93110</td>\n",
       "      <td>0</td>\n",
       "      <td>0</td>\n",
       "    </tr>\n",
       "    <tr>\n",
       "      <th>1</th>\n",
       "      <td>2022-06-23</td>\n",
       "      <td>1.05660</td>\n",
       "      <td>1.05810</td>\n",
       "      <td>1.04828</td>\n",
       "      <td>1.05211</td>\n",
       "      <td>106559</td>\n",
       "      <td>0</td>\n",
       "      <td>0</td>\n",
       "    </tr>\n",
       "    <tr>\n",
       "      <th>2</th>\n",
       "      <td>2022-06-24</td>\n",
       "      <td>1.05234</td>\n",
       "      <td>1.05713</td>\n",
       "      <td>1.05121</td>\n",
       "      <td>1.05554</td>\n",
       "      <td>79704</td>\n",
       "      <td>0</td>\n",
       "      <td>0</td>\n",
       "    </tr>\n",
       "    <tr>\n",
       "      <th>3</th>\n",
       "      <td>2022-06-27</td>\n",
       "      <td>1.05489</td>\n",
       "      <td>1.06149</td>\n",
       "      <td>1.05489</td>\n",
       "      <td>1.05819</td>\n",
       "      <td>80720</td>\n",
       "      <td>0</td>\n",
       "      <td>0</td>\n",
       "    </tr>\n",
       "    <tr>\n",
       "      <th>4</th>\n",
       "      <td>2022-06-28</td>\n",
       "      <td>1.05846</td>\n",
       "      <td>1.06062</td>\n",
       "      <td>1.05036</td>\n",
       "      <td>1.05207</td>\n",
       "      <td>85572</td>\n",
       "      <td>0</td>\n",
       "      <td>0</td>\n",
       "    </tr>\n",
       "    <tr>\n",
       "      <th>5</th>\n",
       "      <td>2022-06-29</td>\n",
       "      <td>1.05188</td>\n",
       "      <td>1.05355</td>\n",
       "      <td>1.04352</td>\n",
       "      <td>1.04413</td>\n",
       "      <td>89438</td>\n",
       "      <td>0</td>\n",
       "      <td>0</td>\n",
       "    </tr>\n",
       "    <tr>\n",
       "      <th>6</th>\n",
       "      <td>2022-06-30</td>\n",
       "      <td>1.04403</td>\n",
       "      <td>1.04885</td>\n",
       "      <td>1.03827</td>\n",
       "      <td>1.04835</td>\n",
       "      <td>91533</td>\n",
       "      <td>0</td>\n",
       "      <td>0</td>\n",
       "    </tr>\n",
       "    <tr>\n",
       "      <th>7</th>\n",
       "      <td>2022-07-01</td>\n",
       "      <td>1.04836</td>\n",
       "      <td>1.04850</td>\n",
       "      <td>1.03655</td>\n",
       "      <td>1.04246</td>\n",
       "      <td>92498</td>\n",
       "      <td>0</td>\n",
       "      <td>0</td>\n",
       "    </tr>\n",
       "    <tr>\n",
       "      <th>8</th>\n",
       "      <td>2022-07-04</td>\n",
       "      <td>1.04193</td>\n",
       "      <td>1.04628</td>\n",
       "      <td>1.04168</td>\n",
       "      <td>1.04227</td>\n",
       "      <td>58142</td>\n",
       "      <td>0</td>\n",
       "      <td>0</td>\n",
       "    </tr>\n",
       "    <tr>\n",
       "      <th>9</th>\n",
       "      <td>2022-07-05</td>\n",
       "      <td>1.04202</td>\n",
       "      <td>1.04437</td>\n",
       "      <td>1.04181</td>\n",
       "      <td>1.04419</td>\n",
       "      <td>17550</td>\n",
       "      <td>0</td>\n",
       "      <td>0</td>\n",
       "    </tr>\n",
       "  </tbody>\n",
       "</table>\n",
       "</div>"
      ],
      "text/plain": [
       "        time     open     high      low    close  tick_volume  spread  \\\n",
       "0 2022-06-22  1.05330  1.06056  1.04690  1.05688        93110       0   \n",
       "1 2022-06-23  1.05660  1.05810  1.04828  1.05211       106559       0   \n",
       "2 2022-06-24  1.05234  1.05713  1.05121  1.05554        79704       0   \n",
       "3 2022-06-27  1.05489  1.06149  1.05489  1.05819        80720       0   \n",
       "4 2022-06-28  1.05846  1.06062  1.05036  1.05207        85572       0   \n",
       "5 2022-06-29  1.05188  1.05355  1.04352  1.04413        89438       0   \n",
       "6 2022-06-30  1.04403  1.04885  1.03827  1.04835        91533       0   \n",
       "7 2022-07-01  1.04836  1.04850  1.03655  1.04246        92498       0   \n",
       "8 2022-07-04  1.04193  1.04628  1.04168  1.04227        58142       0   \n",
       "9 2022-07-05  1.04202  1.04437  1.04181  1.04419        17550       0   \n",
       "\n",
       "   real_volume  \n",
       "0            0  \n",
       "1            0  \n",
       "2            0  \n",
       "3            0  \n",
       "4            0  \n",
       "5            0  \n",
       "6            0  \n",
       "7            0  \n",
       "8            0  \n",
       "9            0  "
      ]
     },
     "execution_count": 52,
     "metadata": {},
     "output_type": "execute_result"
    }
   ],
   "source": [
    "#importando candles fecha actual\n",
    "from_date = datetime.now()\n",
    "\n",
    "rates = mt5.copy_rates_from('EURUSD',mt5.TIMEFRAME_D1,from_date,10)\n",
    "\n",
    "df_rates = pd.DataFrame(rates)\n",
    "df_rates['time'] = pd.to_datetime(df_rates['time'], unit='s')\n",
    "df_rates"
   ]
  },
  {
   "cell_type": "code",
   "execution_count": 20,
   "id": "8f3c4b19",
   "metadata": {},
   "outputs": [
    {
     "data": {
      "text/html": [
       "<div>\n",
       "<style scoped>\n",
       "    .dataframe tbody tr th:only-of-type {\n",
       "        vertical-align: middle;\n",
       "    }\n",
       "\n",
       "    .dataframe tbody tr th {\n",
       "        vertical-align: top;\n",
       "    }\n",
       "\n",
       "    .dataframe thead th {\n",
       "        text-align: right;\n",
       "    }\n",
       "</style>\n",
       "<table border=\"1\" class=\"dataframe\">\n",
       "  <thead>\n",
       "    <tr style=\"text-align: right;\">\n",
       "      <th></th>\n",
       "      <th>time</th>\n",
       "      <th>bid</th>\n",
       "      <th>ask</th>\n",
       "      <th>last</th>\n",
       "      <th>volume</th>\n",
       "      <th>time_msc</th>\n",
       "      <th>flags</th>\n",
       "      <th>volume_real</th>\n",
       "    </tr>\n",
       "  </thead>\n",
       "  <tbody>\n",
       "  </tbody>\n",
       "</table>\n",
       "</div>"
      ],
      "text/plain": [
       "Empty DataFrame\n",
       "Columns: [time, bid, ask, last, volume, time_msc, flags, volume_real]\n",
       "Index: []"
      ]
     },
     "execution_count": 20,
     "metadata": {},
     "output_type": "execute_result"
    }
   ],
   "source": [
    "#Automatizar nuestra extracción de ticks\n",
    "\n",
    "def get_ticks(symbol,number_of_data = 1000):\n",
    "\n",
    "    from_date = datetime.now()\n",
    "\n",
    "    ticks = mt5.copy_ticks_range(symbol,from_date,number_of_data,mt5.COPY_TICKS_ALL)\n",
    "    df_ticks = pd.DataFrame(ticks)\n",
    "    df_ticks['time'] = pd.to_datetime(df_ticks['time'], unit='s')\n",
    "    \n",
    "    return df_ticks\n",
    "\n",
    "get_ticks('EURUSD')"
   ]
  },
  {
   "cell_type": "code",
   "execution_count": 38,
   "id": "b975cddb",
   "metadata": {},
   "outputs": [
    {
     "data": {
      "text/plain": [
       "OrderSendResult(retcode=10027, deal=0, order=0, volume=0.0, price=0.0, bid=0.0, ask=0.0, comment='AutoTrading disabled by client', request_id=0, retcode_external=0, request=TradeRequest(action=1, magic=0, order=0, symbol='EURUSD', volume=0.01, price=1.0266, stoplimit=0.0, sl=0.0, tp=0.0, deviation=10, type=0, type_filling=2, type_time=0, expiration=0, comment='', position=0, position_by=0))"
      ]
     },
     "execution_count": 38,
     "metadata": {},
     "output_type": "execute_result"
    }
   ],
   "source": [
    "#Programar una orden de compra\n",
    "#Siempre importar nuestras librerías e inicializar la conexión con MT5\n",
    "\n",
    "symbol = 'EURUSD'\n",
    "lot = 0.01\n",
    "deviation = 10\n",
    "filling_type =mt5.symbol_info(symbol).filling_mode\n",
    "request = {\n",
    "    'action': mt5.TRADE_ACTION_DEAL,\n",
    "    'symbol': symbol,\n",
    "    'volume': lot,\n",
    "    'type': mt5.ORDER_TYPE_BUY,\n",
    "    'price': mt5.symbol_info_tick(symbol).ask,\n",
    "    'deviation':deviation,\n",
    "    'type_filling': filling_type,\n",
    "    'type_time': mt5.ORDER_TIME_GTC\n",
    "}\n",
    "\n",
    "mt5.order_check(request)\n",
    "mt5.order_send(request)\n"
   ]
  },
  {
   "cell_type": "code",
   "execution_count": 39,
   "id": "5e6fc6e4",
   "metadata": {},
   "outputs": [
    {
     "data": {
      "text/plain": [
       "OrderSendResult(retcode=10027, deal=0, order=0, volume=0.0, price=0.0, bid=0.0, ask=0.0, comment='AutoTrading disabled by client', request_id=0, retcode_external=0, request=TradeRequest(action=1, magic=0, order=0, symbol='EURUSD', volume=0.01, price=1.02652, stoplimit=0.0, sl=0.0, tp=0.0, deviation=10, type=1, type_filling=2, type_time=0, expiration=0, comment='', position=0, position_by=0))"
      ]
     },
     "execution_count": 39,
     "metadata": {},
     "output_type": "execute_result"
    }
   ],
   "source": [
    "#Programar orden de venta \n",
    "request = {\n",
    "    'action': mt5.TRADE_ACTION_DEAL,\n",
    "    'symbol': symbol,\n",
    "    'volume': lot,\n",
    "    'type': mt5.ORDER_TYPE_SELL,\n",
    "    'price': mt5.symbol_info_tick(symbol).bid,\n",
    "    'deviation':deviation,\n",
    "    'type_filling': filling_type,\n",
    "    'type_time': mt5.ORDER_TIME_GTC\n",
    "}\n",
    "mt5.order_send(request)\n"
   ]
  },
  {
   "cell_type": "code",
   "execution_count": 40,
   "id": "98089510",
   "metadata": {},
   "outputs": [],
   "source": [
    "#Cerrar orden de compra\n",
    "request = {\n",
    "    'action': mt5.TRADE_ACTION_DEAL,\n",
    "    'symbol': symbol,\n",
    "    'position': 'no. orden',\n",
    "    'volume': lot,\n",
    "    'type': mt5.ORDER_TYPE_SELL, #aquí es importante mantener en sell porque venderemos\n",
    "    'price': mt5.symbol_info_tick(symbol).bid, \n",
    "    'deviation':deviation,\n",
    "    'type_filling': filling_type,\n",
    "    'type_time': mt5.ORDER_TIME_GTC\n",
    "}\n"
   ]
  },
  {
   "cell_type": "code",
   "execution_count": null,
   "id": "be97c9e7",
   "metadata": {},
   "outputs": [],
   "source": [
    "#Cerrar orden de venta\n",
    "request = {\n",
    "    'action': mt5.TRADE_ACTION_DEAL,\n",
    "    'symbol': symbol,\n",
    "    'position': 'no. orden',\n",
    "    'volume': lot,\n",
    "    'type': mt5.ORDER_TYPE_BUY, #aquí es importante mantener en buy porque compraremos\n",
    "    'price': mt5.symbol_info_tick(symbol).ask, \n",
    "    'deviation':deviation,\n",
    "    'type_filling': filling_type,\n",
    "    'type_time': mt5.ORDER_TIME_GTC\n",
    "}"
   ]
  },
  {
   "cell_type": "code",
   "execution_count": 41,
   "id": "679bd2c7",
   "metadata": {},
   "outputs": [],
   "source": [
    "#Automatizar el proceso\n",
    "#Magic number, nos sirve para manejar diferentes bots y enumerarlos\n",
    "\n",
    "def send_order(symbol, lot, buy, sell, id_position = None, magic = 0):\n",
    "    \n",
    "    #Inicializar la conexión con MT5 y python\n",
    "    mt5.initialize()\n",
    "    \n",
    "    #Extraer el estado de filling del simbolo\n",
    "    filling_type = mt5.symbol_info(symbol).filling_mode\n",
    "    \n",
    "    \"\"\" ABRIR UNA OPERACIÓN COMPRA \"\"\"\n",
    "    \n",
    "    if buy and id_position == None:\n",
    "        request = {\n",
    "        'action': mt5.TRADE_ACTION_DEAL,\n",
    "        'symbol': symbol,\n",
    "        'volume': lot,\n",
    "        'type': mt5.ORDER_TYPE_BUY, \n",
    "        'price': mt5.symbol_info_tick(symbol).ask, \n",
    "        'deviation':10,\n",
    "        'magic': magic,\n",
    "        'type_filling': filling_type,\n",
    "        'type_time': mt5.ORDER_TIME_GTC\n",
    "    }\n",
    "        result = mt5.order_send(request)\n",
    "        return result\n",
    "    \n",
    "    \"\"\" ABRIR UNA OPERACIÓN VENTA \"\"\"\n",
    "    \n",
    "    if sell and id_position==None:\n",
    "        request = {\n",
    "    'action': mt5.TRADE_ACTION_DEAL,\n",
    "    'symbol': symbol,\n",
    "    'volume': lot,\n",
    "    'type': mt5.ORDER_TYPE_SELL, \n",
    "    'price': mt5.symbol_info_tick(symbol).bid, \n",
    "    'deviation':10,\n",
    "    'magic': magic,\n",
    "    'type_filling': filling_type,\n",
    "    'type_time': mt5.ORDER_TIME_GTC\n",
    "}\n",
    "        result = mt5.order_send(request)\n",
    "        return result\n",
    "\n",
    "    \"\"\" CERRAR UNA POSICIÓN COMPRA \"\"\"\n",
    "\n",
    "    if buy and id_position != None:\n",
    "        request = {\n",
    "    'action': mt5.TRADE_ACTION_DEAL,\n",
    "    'symbol': symbol,\n",
    "    'volume': lot,\n",
    "    'type': mt5.ORDER_TYPE_SELL, \n",
    "    'price': mt5.symbol_info_tick(symbol).bid, \n",
    "    'deviation':10,\n",
    "    'magic': magic,\n",
    "    'type_filling': filling_type,\n",
    "    'type_time': mt5.ORDER_TIME_GTC\n",
    "}\n",
    "        result = mt5.order_send(request)\n",
    "        return result\n",
    "    \n",
    "    \"\"\" CERRAR UNA POSICIÓN VENTA \"\"\"\n",
    "\n",
    "    if sell and id_position != None:\n",
    "        request = {\n",
    "    'action': mt5.TRADE_ACTION_DEAL,\n",
    "    'symbol': symbol,\n",
    "    'volume': lot,\n",
    "    'type': mt5.ORDER_TYPE_BUY, \n",
    "    'price': mt5.symbol_info_tick(symbol).ask, \n",
    "    'deviation':10,\n",
    "    'magic': magic,\n",
    "    'type_filling': filling_type,\n",
    "    'type_time': mt5.ORDER_TIME_GTC\n",
    "}\n",
    "        result = mt5.order_send(request)\n",
    "        return result\n",
    "    "
   ]
  },
  {
   "cell_type": "code",
   "execution_count": 46,
   "id": "304b38ad",
   "metadata": {},
   "outputs": [
    {
     "data": {
      "text/plain": [
       "OrderSendResult(retcode=10027, deal=0, order=0, volume=0.0, price=0.0, bid=0.0, ask=0.0, comment='AutoTrading disabled by client', request_id=0, retcode_external=0, request=TradeRequest(action=1, magic=0, order=0, symbol='EURUSD', volume=0.01, price=1.02502, stoplimit=0.0, sl=0.0, tp=0.0, deviation=10, type=0, type_filling=2, type_time=0, expiration=0, comment='', position=0, position_by=0))"
      ]
     },
     "execution_count": 46,
     "metadata": {},
     "output_type": "execute_result"
    }
   ],
   "source": [
    "#abriendo una posición con nuestra función\n",
    "information = send_order('EURUSD', 0.01, True, False)\n",
    "information"
   ]
  },
  {
   "cell_type": "code",
   "execution_count": 47,
   "id": "b9200ab0",
   "metadata": {},
   "outputs": [
    {
     "data": {
      "text/plain": [
       "OrderSendResult(retcode=10027, deal=0, order=0, volume=0.0, price=0.0, bid=0.0, ask=0.0, comment='AutoTrading disabled by client', request_id=0, retcode_external=0, request=TradeRequest(action=1, magic=0, order=0, symbol='EURUSD', volume=0.01, price=1.02481, stoplimit=0.0, sl=0.0, tp=0.0, deviation=10, type=1, type_filling=2, type_time=0, expiration=0, comment='', position=0, position_by=0))"
      ]
     },
     "execution_count": 47,
     "metadata": {},
     "output_type": "execute_result"
    }
   ],
   "source": [
    "send_order('EURUSD',0.01,True,False, id_position=information.order)"
   ]
  },
  {
   "cell_type": "code",
   "execution_count": 61,
   "id": "6988c101",
   "metadata": {},
   "outputs": [
    {
     "data": {
      "text/plain": [
       "'Unsupported filling mode'"
      ]
     },
     "execution_count": 61,
     "metadata": {},
     "output_type": "execute_result"
    }
   ],
   "source": [
    "#Programando un take profit y stop loss \n",
    "\n",
    "#Inicializar la conexión con MT5 y python\n",
    "mt5.initialize()\n",
    "lot = 0.01\n",
    "symbol = 'EURUSD'\n",
    "deviation = 10\n",
    "point = mt5.symbol_info(symbol).point\n",
    "#Extraer el estado de filling del simbolo\n",
    "filling_type = mt5.symbol_info('EURUSD').filling_mode\n",
    "\n",
    "request = {\n",
    "    'action': mt5.TRADE_ACTION_DEAL,\n",
    "    'symbol': symbol,\n",
    "    'volume': lot,\n",
    "    'type': mt5.ORDER_TYPE_BUY, \n",
    "    'price': mt5.symbol_info_tick(symbol).ask, \n",
    "    'deviation':10,\n",
    "    'tp': mt5.symbol_info_tick(symbol).ask + 100*point,\n",
    "    'sl': mt5.symbol_info_tick(symbol).ask - 100*point,\n",
    "    'type_filling': filling_type,\n",
    "    'type_time': mt5.ORDER_TIME_GTC\n",
    "}\n",
    "\n",
    "mt5.order_check(request).comment"
   ]
  }
 ],
 "metadata": {
  "kernelspec": {
   "display_name": "Python 3.10.4 64-bit",
   "language": "python",
   "name": "python3"
  },
  "language_info": {
   "codemirror_mode": {
    "name": "ipython",
    "version": 3
   },
   "file_extension": ".py",
   "mimetype": "text/x-python",
   "name": "python",
   "nbconvert_exporter": "python",
   "pygments_lexer": "ipython3",
   "version": "3.10.4"
  },
  "vscode": {
   "interpreter": {
    "hash": "7ce0eefcf62feafa0cceacfd587c96701d952e3e2fc5aec5e7b8b37643e01fc7"
   }
  }
 },
 "nbformat": 4,
 "nbformat_minor": 5
}
